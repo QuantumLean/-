{
 "cells": [
  {
   "cell_type": "markdown",
   "id": "5cd29f21",
   "metadata": {},
   "source": [
    "# Работа с массивами данных"
   ]
  },
  {
   "cell_type": "markdown",
   "id": "359c2aa1",
   "metadata": {},
   "source": [
    "Массивы - это структура данных, хранящая набор значений (элементов массива), идентифицируемых по индексу или набору индексов, принимающих целые (или приводимые к целым) значения из некоторого заданного непрерывного диапазона:"
   ]
  },
  {
   "cell_type": "markdown",
   "id": "342f3573",
   "metadata": {},
   "source": [
    "Массив данных может быть отображен в качестве одной переменной. Размерность массива — это количество индексов, необходимое для однозначной адресации элемента в рамках массива[1][2]. По количеству используемых индексов массивы делятся на одномерные, двумерные, трёхмерные и т. д"
   ]
  },
  {
   "cell_type": "markdown",
   "id": "5c51df37",
   "metadata": {},
   "source": [
    "ОДНОМЕРНЫЕ МАССИВЫ:"
   ]
  },
  {
   "cell_type": "code",
   "execution_count": 41,
   "id": "ac55e8f1",
   "metadata": {},
   "outputs": [
    {
     "data": {
      "text/plain": [
       "array([1, 2, 3, 4, 5, 6, 7, 8, 9])"
      ]
     },
     "execution_count": 41,
     "metadata": {},
     "output_type": "execute_result"
    }
   ],
   "source": [
    "a = np.array([1, 2, 3, 4, 5, 6, 7, 8, 9])\n",
    "a"
   ]
  },
  {
   "cell_type": "markdown",
   "id": "dbbd271e",
   "metadata": {},
   "source": [
    " dtype - аргумент, при помощи которого формируется десятичные цифры"
   ]
  },
  {
   "cell_type": "code",
   "execution_count": 45,
   "id": "093de6ec",
   "metadata": {},
   "outputs": [
    {
     "data": {
      "text/plain": [
       "array([1., 2., 3., 4., 5., 6., 7., 8., 9.])"
      ]
     },
     "execution_count": 45,
     "metadata": {},
     "output_type": "execute_result"
    }
   ],
   "source": [
    "a = np.array([1, 2, 3, 4, 5, 6, 7, 8, 9], dtype=np.float64)\n",
    "a"
   ]
  },
  {
   "cell_type": "markdown",
   "id": "3f09cb8f",
   "metadata": {},
   "source": [
    "ДВУМЕРНЫЕ МАССИВЫ:"
   ]
  },
  {
   "cell_type": "markdown",
   "id": "0f21a3b4",
   "metadata": {},
   "source": [
    "Двумерные массивы должны иметь одинаковую длину и выделяться синтаксисом:"
   ]
  },
  {
   "cell_type": "code",
   "execution_count": 51,
   "id": "120a8f2d",
   "metadata": {},
   "outputs": [
    {
     "data": {
      "text/plain": [
       "array([[1., 2., 3., 4., 5.],\n",
       "       [5., 6., 7., 8., 9.]])"
      ]
     },
     "execution_count": 51,
     "metadata": {},
     "output_type": "execute_result"
    }
   ],
   "source": [
    "a = np.array([[1, 2, 3, 4, 5],\n",
    "              [5, 6, 7, 8, 9]], dtype=float)\n",
    "a"
   ]
  },
  {
   "cell_type": "markdown",
   "id": "10bcc3eb",
   "metadata": {},
   "source": [
    "# Атрибуты массива"
   ]
  },
  {
   "cell_type": "markdown",
   "id": "8b9cf541",
   "metadata": {},
   "source": [
    "Массивы данных служат для ускорения работы с данными. Наряду со списками, кортежами и строками. Похожи на списки, но с ограничением по:\n",
    "- dtype - типу данных\n",
    "- shape - размеру элементов\n",
    "Атрибуты массивов: \n",
    "- shape - размер массива по горизонтали и вертикали в символах;\n",
    "- ndim - количество размерностей;\n",
    "- dtype - возвращает к исходному формату, хранящегося в текущей сессии"
   ]
  },
  {
   "cell_type": "code",
   "execution_count": 52,
   "id": "f02e9464",
   "metadata": {},
   "outputs": [
    {
     "data": {
      "text/plain": [
       "(2, 5)"
      ]
     },
     "execution_count": 52,
     "metadata": {},
     "output_type": "execute_result"
    }
   ],
   "source": [
    "a.shape"
   ]
  },
  {
   "cell_type": "code",
   "execution_count": 53,
   "id": "7b995fe3",
   "metadata": {},
   "outputs": [
    {
     "data": {
      "text/plain": [
       "2"
      ]
     },
     "execution_count": 53,
     "metadata": {},
     "output_type": "execute_result"
    }
   ],
   "source": [
    "a.ndim"
   ]
  },
  {
   "cell_type": "code",
   "execution_count": 54,
   "id": "2bf29abd",
   "metadata": {},
   "outputs": [
    {
     "data": {
      "text/plain": [
       "dtype('float64')"
      ]
     },
     "execution_count": 54,
     "metadata": {},
     "output_type": "execute_result"
    }
   ],
   "source": [
    "a.dtype"
   ]
  },
  {
   "cell_type": "markdown",
   "id": "c88a2592",
   "metadata": {},
   "source": [
    "При помощи функции astype Вы можете сконвертировать массив (указать тип массива) "
   ]
  },
  {
   "cell_type": "code",
   "execution_count": 55,
   "id": "78ad9b8e",
   "metadata": {},
   "outputs": [
    {
     "data": {
      "text/plain": [
       "array([[1, 2, 3, 4, 5],\n",
       "       [5, 6, 7, 8, 9]])"
      ]
     },
     "execution_count": 55,
     "metadata": {},
     "output_type": "execute_result"
    }
   ],
   "source": [
    "a.astype(int)"
   ]
  },
  {
   "cell_type": "markdown",
   "id": "d7528c5d",
   "metadata": {},
   "source": [
    "# Размерность массивов и хранение"
   ]
  },
  {
   "cell_type": "markdown",
   "id": "8e5d01cf",
   "metadata": {},
   "source": [
    "ИЗМЕНЕНИЕ ФОРМЫ МАССИВА"
   ]
  },
  {
   "cell_type": "markdown",
   "id": "50aab0bf",
   "metadata": {},
   "source": [
    "Массивы в библиотеке хранятся в строгой заданной последовательности, как единый большой кусок данных. Поэтому изменение последовательности просто указывает: где начинается / заканчивается строка."
   ]
  },
  {
   "cell_type": "code",
   "execution_count": 66,
   "id": "3be7a81f",
   "metadata": {},
   "outputs": [
    {
     "data": {
      "text/plain": [
       "array([[1., 2., 3., 4., 5.],\n",
       "       [5., 6., 7., 8., 9.]])"
      ]
     },
     "execution_count": 66,
     "metadata": {},
     "output_type": "execute_result"
    }
   ],
   "source": [
    "a"
   ]
  },
  {
   "cell_type": "markdown",
   "id": "a2383ba4",
   "metadata": {},
   "source": [
    "Вместе с атрибутами типа (dtype) и размера (shape)..."
   ]
  },
  {
   "cell_type": "code",
   "execution_count": 61,
   "id": "20a7449a",
   "metadata": {},
   "outputs": [
    {
     "data": {
      "text/plain": [
       "dtype('float64')"
      ]
     },
     "execution_count": 61,
     "metadata": {},
     "output_type": "execute_result"
    }
   ],
   "source": [
    "a.dtype"
   ]
  },
  {
   "cell_type": "markdown",
   "id": "c118853c",
   "metadata": {},
   "source": [
    "... атрибут strides показывает, насколько байтов необходимо отступить прежде чем перейти к следующему элементу в строке или в столбце. "
   ]
  },
  {
   "cell_type": "code",
   "execution_count": 57,
   "id": "3e4eab25",
   "metadata": {},
   "outputs": [
    {
     "data": {
      "text/plain": [
       "(40, 8)"
      ]
     },
     "execution_count": 57,
     "metadata": {},
     "output_type": "execute_result"
    }
   ],
   "source": [
    "a.strides"
   ]
  },
  {
   "cell_type": "markdown",
   "id": "a9bbbc36",
   "metadata": {},
   "source": [
    "Размер 1-го числа = 8 байт. В строке 5 чисел. Следовательно размер строки из 5 чисел равен 8*5=40 байт:"
   ]
  },
  {
   "cell_type": "code",
   "execution_count": 58,
   "id": "03f3b2de",
   "metadata": {},
   "outputs": [
    {
     "data": {
      "text/plain": [
       "8"
      ]
     },
     "execution_count": 58,
     "metadata": {},
     "output_type": "execute_result"
    }
   ],
   "source": [
    "a.dtype.itemsize"
   ]
  },
  {
   "cell_type": "markdown",
   "id": "e26798c4",
   "metadata": {},
   "source": [
    "Для того, чтобы изменить параметры массива и сделать другую геометрию куска, достаточно изменить форму (shape) и размерность в байтах (straids). Это можно сделать при помощи оператора (reshape):"
   ]
  },
  {
   "cell_type": "code",
   "execution_count": 64,
   "id": "b4d3aa96",
   "metadata": {},
   "outputs": [
    {
     "data": {
      "text/plain": [
       "array([[1., 2.],\n",
       "       [3., 4.],\n",
       "       [5., 5.],\n",
       "       [6., 7.],\n",
       "       [8., 9.]])"
      ]
     },
     "execution_count": 64,
     "metadata": {},
     "output_type": "execute_result"
    }
   ],
   "source": [
    "b = a.reshape(5,2)\n",
    "b"
   ]
  },
  {
   "cell_type": "markdown",
   "id": "1d932276",
   "metadata": {},
   "source": [
    "теперь длина строки составляет 8*2=16 байтов"
   ]
  },
  {
   "cell_type": "code",
   "execution_count": 65,
   "id": "21026a88",
   "metadata": {},
   "outputs": [
    {
     "data": {
      "text/plain": [
       "(16, 8)"
      ]
     },
     "execution_count": 65,
     "metadata": {},
     "output_type": "execute_result"
    }
   ],
   "source": [
    "b.strides"
   ]
  },
  {
   "cell_type": "markdown",
   "id": "b12f2514",
   "metadata": {},
   "source": [
    "КАК ВЫТЯНУТЬ МАССИВ В ОДНУ СТРОЧКУ"
   ]
  },
  {
   "cell_type": "markdown",
   "id": "b4c3e6f1",
   "metadata": {},
   "source": [
    "Метод flaven: в массиве \"b\" значение оставляем, в \"a\" меняем на [0, 1]"
   ]
  },
  {
   "cell_type": "code",
   "execution_count": 67,
   "id": "9f3d6730",
   "metadata": {},
   "outputs": [
    {
     "data": {
      "text/plain": [
       "array([1., 2., 3., 4., 5., 5., 6., 7., 8., 9.])"
      ]
     },
     "execution_count": 67,
     "metadata": {},
     "output_type": "execute_result"
    }
   ],
   "source": [
    "b = a.flatten()\n",
    "a[0, 1] = -20\n",
    "\n",
    "b"
   ]
  },
  {
   "cell_type": "code",
   "execution_count": null,
   "id": "fff40778",
   "metadata": {},
   "outputs": [],
   "source": [
    "Метод ravel: в отличие от flatten не оставлояет копию"
   ]
  },
  {
   "cell_type": "code",
   "execution_count": 68,
   "id": "cfd1dfc6",
   "metadata": {},
   "outputs": [
    {
     "data": {
      "text/plain": [
       "array([  1., -30.,   3.,   4.,   5.,   5.,   6.,   7.,   8.,   9.])"
      ]
     },
     "execution_count": 68,
     "metadata": {},
     "output_type": "execute_result"
    }
   ],
   "source": [
    "b = a.ravel()\n",
    "a[0, 1] = -30\n",
    "\n",
    "b"
   ]
  },
  {
   "cell_type": "markdown",
   "id": "88b3f468",
   "metadata": {},
   "source": [
    "# Описание"
   ]
  },
  {
   "cell_type": "markdown",
   "id": "02e48862",
   "metadata": {},
   "source": [
    "Numpy -  это библиотека Python с открытым кодом, предназначенная для 1)поддержки многомерных массивов 2)поддержки высокоуровневых математических функций, используемых в работе с многомерными массивами данных"
   ]
  },
  {
   "cell_type": "markdown",
   "id": "2dce4664",
   "metadata": {},
   "source": [
    "SciPy - это библиотека Python с открытым кодом для выполнения научных и инженерных рассчетов\n"
   ]
  },
  {
   "cell_type": "markdown",
   "id": "3c6e2f16",
   "metadata": {},
   "source": [
    "import - команда, при помощи которой Вы сможете импортировать библиотеку в текущий блокнот и приступить к работе с ними \n",
    "np и sp - это сокращенные названия библиотек, которые Вы указываете после оператора \"as\".\n",
    "as - инструкция, эквивалентная логическому значению \"как\""
   ]
  },
  {
   "cell_type": "markdown",
   "id": "3da7000b",
   "metadata": {},
   "source": [
    "# Импорт и установка библиотек"
   ]
  },
  {
   "cell_type": "code",
   "execution_count": 239,
   "id": "c6370409",
   "metadata": {},
   "outputs": [
    {
     "data": {
      "text/plain": [
       "'1.21.2'"
      ]
     },
     "execution_count": 239,
     "metadata": {},
     "output_type": "execute_result"
    }
   ],
   "source": [
    "import numpy as np\n",
    "np.__version__ "
   ]
  },
  {
   "cell_type": "code",
   "execution_count": 238,
   "id": "d13fa634",
   "metadata": {},
   "outputs": [
    {
     "data": {
      "text/plain": [
       "'1.7.1'"
      ]
     },
     "execution_count": 238,
     "metadata": {},
     "output_type": "execute_result"
    }
   ],
   "source": [
    "import scipy as sp\n",
    "sp.__version__"
   ]
  },
  {
   "cell_type": "markdown",
   "id": "f5048514",
   "metadata": {},
   "source": [
    "ЗАДАНИЕ 1: Загрузите библиотеки в текущую сессию при помощи команды 'import' и узнайте текущую версию установленных библиотек"
   ]
  },
  {
   "cell_type": "markdown",
   "id": "bd8f79d7",
   "metadata": {},
   "source": [
    "# СОЗДАНИЕ МАССИВОВ"
   ]
  },
  {
   "cell_type": "markdown",
   "id": "35d2dfce",
   "metadata": {},
   "source": [
    "Массивы - это структура данных, хранящая набор значений (элементов массива), идентифицируемых по индексу или набору индексов, принимающих целые (или приводимые к целым) значения из некоторого заданного непрерывного диапазона:"
   ]
  },
  {
   "cell_type": "markdown",
   "id": "c53b4300",
   "metadata": {},
   "source": [
    "Массив данных может быть отображен в качестве одной переменной. Размерность массива — это количество индексов, необходимое для однозначной адресации элемента в рамках массива[1][2]. По количеству используемых индексов массивы делятся на одномерные, двумерные, трёхмерные и т. д"
   ]
  },
  {
   "cell_type": "markdown",
   "id": "e90eef21",
   "metadata": {},
   "source": [
    "ОДНОМЕРНЫЕ МАССИВЫ:"
   ]
  },
  {
   "cell_type": "code",
   "execution_count": 41,
   "id": "f83ac8e9",
   "metadata": {},
   "outputs": [
    {
     "data": {
      "text/plain": [
       "array([1, 2, 3, 4, 5, 6, 7, 8, 9])"
      ]
     },
     "execution_count": 41,
     "metadata": {},
     "output_type": "execute_result"
    }
   ],
   "source": [
    "a = np.array([1, 2, 3, 4, 5, 6, 7, 8, 9])\n",
    "a"
   ]
  },
  {
   "cell_type": "markdown",
   "id": "492eb938",
   "metadata": {},
   "source": [
    " dtype - аргумент, при помощи которого формируется десятичные цифры"
   ]
  },
  {
   "cell_type": "code",
   "execution_count": 45,
   "id": "a969a8c6",
   "metadata": {},
   "outputs": [
    {
     "data": {
      "text/plain": [
       "array([1., 2., 3., 4., 5., 6., 7., 8., 9.])"
      ]
     },
     "execution_count": 45,
     "metadata": {},
     "output_type": "execute_result"
    }
   ],
   "source": [
    "a = np.array([1, 2, 3, 4, 5, 6, 7, 8, 9], dtype=np.float64)\n",
    "a"
   ]
  },
  {
   "cell_type": "markdown",
   "id": "2a5d9587",
   "metadata": {},
   "source": [
    "ДВУМЕРНЫЕ МАССИВЫ:"
   ]
  },
  {
   "cell_type": "markdown",
   "id": "d7717c55",
   "metadata": {},
   "source": [
    "Двумерные массивы должны иметь одинаковую длину и выделяться синтаксисом:"
   ]
  },
  {
   "cell_type": "code",
   "execution_count": 51,
   "id": "8f3112de",
   "metadata": {},
   "outputs": [
    {
     "data": {
      "text/plain": [
       "array([[1., 2., 3., 4., 5.],\n",
       "       [5., 6., 7., 8., 9.]])"
      ]
     },
     "execution_count": 51,
     "metadata": {},
     "output_type": "execute_result"
    }
   ],
   "source": [
    "a = np.array([[1, 2, 3, 4, 5],\n",
    "              [5, 6, 7, 8, 9]], dtype=float)\n",
    "a"
   ]
  },
  {
   "cell_type": "markdown",
   "id": "eab6d1d9",
   "metadata": {},
   "source": [
    "# Атрибуты массива"
   ]
  },
  {
   "cell_type": "markdown",
   "id": "6344dac7",
   "metadata": {},
   "source": [
    "Массивы данных служат для ускорения работы с данными. Наряду со списками, кортежами и строками. Похожи на списки, но с ограничением по:\n",
    "- dtype - типу данных\n",
    "- shape - размеру элементов\n",
    "Атрибуты массивов: \n",
    "- shape - размер массива по горизонтали и вертикали в символах;\n",
    "- ndim - количество размерностей;\n",
    "- dtype - возвращает к исходному формату, хранящегося в текущей сессии"
   ]
  },
  {
   "cell_type": "code",
   "execution_count": 52,
   "id": "4637fb8a",
   "metadata": {},
   "outputs": [
    {
     "data": {
      "text/plain": [
       "(2, 5)"
      ]
     },
     "execution_count": 52,
     "metadata": {},
     "output_type": "execute_result"
    }
   ],
   "source": [
    "a.shape"
   ]
  },
  {
   "cell_type": "code",
   "execution_count": 53,
   "id": "01e81bf4",
   "metadata": {},
   "outputs": [
    {
     "data": {
      "text/plain": [
       "2"
      ]
     },
     "execution_count": 53,
     "metadata": {},
     "output_type": "execute_result"
    }
   ],
   "source": [
    "a.ndim"
   ]
  },
  {
   "cell_type": "code",
   "execution_count": 54,
   "id": "689553bb",
   "metadata": {},
   "outputs": [
    {
     "data": {
      "text/plain": [
       "dtype('float64')"
      ]
     },
     "execution_count": 54,
     "metadata": {},
     "output_type": "execute_result"
    }
   ],
   "source": [
    "a.dtype"
   ]
  },
  {
   "cell_type": "markdown",
   "id": "b9d9d5c6",
   "metadata": {},
   "source": [
    "При помощи функции astype Вы можете сконвертировать массив (указать тип массива) "
   ]
  },
  {
   "cell_type": "code",
   "execution_count": 55,
   "id": "fb7e043d",
   "metadata": {},
   "outputs": [
    {
     "data": {
      "text/plain": [
       "array([[1, 2, 3, 4, 5],\n",
       "       [5, 6, 7, 8, 9]])"
      ]
     },
     "execution_count": 55,
     "metadata": {},
     "output_type": "execute_result"
    }
   ],
   "source": [
    "a.astype(int)"
   ]
  },
  {
   "cell_type": "markdown",
   "id": "72f0c13f",
   "metadata": {},
   "source": [
    "# Размерность массивов и хранение"
   ]
  },
  {
   "cell_type": "markdown",
   "id": "01bc5b63",
   "metadata": {},
   "source": [
    "ИЗМЕНЕНИЕ ФОРМЫ МАССИВА"
   ]
  },
  {
   "cell_type": "markdown",
   "id": "5c650606",
   "metadata": {},
   "source": [
    "Массивы в библиотеке хранятся в строгой заданной последовательности, как единый большой кусок данных. Поэтому изменение последовательности просто указывает: где начинается / заканчивается строка."
   ]
  },
  {
   "cell_type": "code",
   "execution_count": 66,
   "id": "84c76790",
   "metadata": {},
   "outputs": [
    {
     "data": {
      "text/plain": [
       "array([[1., 2., 3., 4., 5.],\n",
       "       [5., 6., 7., 8., 9.]])"
      ]
     },
     "execution_count": 66,
     "metadata": {},
     "output_type": "execute_result"
    }
   ],
   "source": [
    "a"
   ]
  },
  {
   "cell_type": "markdown",
   "id": "04804e37",
   "metadata": {},
   "source": [
    "Вместе с атрибутами типа (dtype) и размера (shape)..."
   ]
  },
  {
   "cell_type": "code",
   "execution_count": 61,
   "id": "76259318",
   "metadata": {},
   "outputs": [
    {
     "data": {
      "text/plain": [
       "dtype('float64')"
      ]
     },
     "execution_count": 61,
     "metadata": {},
     "output_type": "execute_result"
    }
   ],
   "source": [
    "a.dtype"
   ]
  },
  {
   "cell_type": "markdown",
   "id": "37a95c5a",
   "metadata": {},
   "source": [
    "... атрибут strides показывает, насколько байтов необходимо отступить прежде чем перейти к следующему элементу в строке или в столбце. "
   ]
  },
  {
   "cell_type": "code",
   "execution_count": 57,
   "id": "f65f550c",
   "metadata": {},
   "outputs": [
    {
     "data": {
      "text/plain": [
       "(40, 8)"
      ]
     },
     "execution_count": 57,
     "metadata": {},
     "output_type": "execute_result"
    }
   ],
   "source": [
    "a.strides"
   ]
  },
  {
   "cell_type": "markdown",
   "id": "41e944aa",
   "metadata": {},
   "source": [
    "Размер 1-го числа = 8 байт. В строке 5 чисел. Следовательно размер строки из 5 чисел равен 8*5=40 байт:"
   ]
  },
  {
   "cell_type": "code",
   "execution_count": 58,
   "id": "9b92c121",
   "metadata": {},
   "outputs": [
    {
     "data": {
      "text/plain": [
       "8"
      ]
     },
     "execution_count": 58,
     "metadata": {},
     "output_type": "execute_result"
    }
   ],
   "source": [
    "a.dtype.itemsize"
   ]
  },
  {
   "cell_type": "markdown",
   "id": "93cc2e37",
   "metadata": {},
   "source": [
    "Для того, чтобы изменить параметры массива и сделать другую геометрию куска, достаточно изменить форму (shape) и размерность в байтах (straids). Это можно сделать при помощи оператора (reshape):"
   ]
  },
  {
   "cell_type": "code",
   "execution_count": 64,
   "id": "a33a9a10",
   "metadata": {},
   "outputs": [
    {
     "data": {
      "text/plain": [
       "array([[1., 2.],\n",
       "       [3., 4.],\n",
       "       [5., 5.],\n",
       "       [6., 7.],\n",
       "       [8., 9.]])"
      ]
     },
     "execution_count": 64,
     "metadata": {},
     "output_type": "execute_result"
    }
   ],
   "source": [
    "b = a.reshape(5,2)\n",
    "b"
   ]
  },
  {
   "cell_type": "markdown",
   "id": "c02dbc91",
   "metadata": {},
   "source": [
    "теперь длина строки составляет 8*2=16 байтов"
   ]
  },
  {
   "cell_type": "code",
   "execution_count": 65,
   "id": "4cab7be0",
   "metadata": {},
   "outputs": [
    {
     "data": {
      "text/plain": [
       "(16, 8)"
      ]
     },
     "execution_count": 65,
     "metadata": {},
     "output_type": "execute_result"
    }
   ],
   "source": [
    "b.strides"
   ]
  },
  {
   "cell_type": "markdown",
   "id": "37ad1071",
   "metadata": {},
   "source": [
    "КАК ВЫТЯНУТЬ МАССИВ В ОДНУ СТРОЧКУ"
   ]
  },
  {
   "cell_type": "markdown",
   "id": "64e253fb",
   "metadata": {},
   "source": [
    "Метод flaven: в массиве \"b\" значение оставляем, в \"a\" меняем на [0, 1]"
   ]
  },
  {
   "cell_type": "code",
   "execution_count": 67,
   "id": "203ff07c",
   "metadata": {},
   "outputs": [
    {
     "data": {
      "text/plain": [
       "array([1., 2., 3., 4., 5., 5., 6., 7., 8., 9.])"
      ]
     },
     "execution_count": 67,
     "metadata": {},
     "output_type": "execute_result"
    }
   ],
   "source": [
    "b = a.flatten()\n",
    "a[0, 1] = -20\n",
    "\n",
    "b"
   ]
  },
  {
   "cell_type": "markdown",
   "id": "e6a6f5e2",
   "metadata": {},
   "source": [
    "# Транспонирование массивов"
   ]
  },
  {
   "cell_type": "markdown",
   "id": "68c74a50",
   "metadata": {},
   "source": [
    "Транспонирование массива = замена строчек столбцами и наоборот с сохранением последовательности всех элементов. Дважды транспонированная матрица = исходному массиву.   "
   ]
  },
  {
   "cell_type": "code",
   "execution_count": 74,
   "id": "dbb9d8ee",
   "metadata": {},
   "outputs": [
    {
     "data": {
      "text/plain": [
       "array([[  1.,   5.],\n",
       "       [-40.,   6.],\n",
       "       [  3.,   7.],\n",
       "       [  4.,   8.],\n",
       "       [  5.,   9.]])"
      ]
     },
     "execution_count": 74,
     "metadata": {},
     "output_type": "execute_result"
    }
   ],
   "source": [
    "c = a.T\n",
    "a[0, 1] = -40\n",
    "\n",
    "c"
   ]
  },
  {
   "cell_type": "raw",
   "id": "6830be9a",
   "metadata": {},
   "source": [
    "c.strides, a.strides"
   ]
  },
  {
   "cell_type": "markdown",
   "id": "ef266384",
   "metadata": {},
   "source": [
    "Если размерностей несколько и соответственно несколько осей, то менять нужно сразу две попарно"
   ]
  },
  {
   "cell_type": "markdown",
   "id": "1be56781",
   "metadata": {},
   "source": [
    "Arange () - это функция, используемая для получения равномерно распределенных значений в заданном интервале. Значения генерируются в пределах полуоткрытого интервала [start, stop]"
   ]
  },
  {
   "cell_type": "raw",
   "id": "32742c34",
   "metadata": {},
   "source": [
    "При помощи фиктивной оси с размерностью 1 можно также вытянуть в строчку , но без сохранения копии"
   ]
  },
  {
   "cell_type": "code",
   "execution_count": 80,
   "id": "862f1923",
   "metadata": {},
   "outputs": [
    {
     "data": {
      "text/plain": [
       "array([0, 1, 2, 3, 4, 5, 6, 7, 8, 9])"
      ]
     },
     "execution_count": 80,
     "metadata": {},
     "output_type": "execute_result"
    }
   ],
   "source": [
    "b = np.arange(10)\n",
    "\n",
    "b"
   ]
  },
  {
   "cell_type": "markdown",
   "id": "990509c3",
   "metadata": {},
   "source": [
    "Метод np.newaxis создает новый вектор:"
   ]
  },
  {
   "cell_type": "code",
   "execution_count": 81,
   "id": "07d25df8",
   "metadata": {},
   "outputs": [
    {
     "data": {
      "text/plain": [
       "array([[0, 1, 2, 3, 4, 5, 6, 7, 8, 9]])"
      ]
     },
     "execution_count": 81,
     "metadata": {},
     "output_type": "execute_result"
    }
   ],
   "source": [
    "b[np.newaxis, :]"
   ]
  },
  {
   "cell_type": "markdown",
   "id": "7f8c6726",
   "metadata": {},
   "source": [
    "Метод np.expand_dims позволяет добавить размерность:"
   ]
  },
  {
   "cell_type": "code",
   "execution_count": 83,
   "id": "9ab690f0",
   "metadata": {},
   "outputs": [
    {
     "data": {
      "text/plain": [
       "array([[0, 1, 2, 3, 4, 5, 6, 7, 8, 9]])"
      ]
     },
     "execution_count": 83,
     "metadata": {},
     "output_type": "execute_result"
    }
   ],
   "source": [
    "np.expand_dims(b, axis=0)"
   ]
  },
  {
   "cell_type": "code",
   "execution_count": null,
   "id": "e9105d5b",
   "metadata": {},
   "outputs": [],
   "source": [
    "... таким же обрахом возвращаем обратно вектор в столбец"
   ]
  },
  {
   "cell_type": "code",
   "execution_count": 86,
   "id": "96c1932e",
   "metadata": {},
   "outputs": [
    {
     "data": {
      "text/plain": [
       "array([[0],\n",
       "       [1],\n",
       "       [2],\n",
       "       [3],\n",
       "       [4],\n",
       "       [5],\n",
       "       [6],\n",
       "       [7],\n",
       "       [8],\n",
       "       [9]])"
      ]
     },
     "execution_count": 86,
     "metadata": {},
     "output_type": "execute_result"
    }
   ],
   "source": [
    "b[:, np.newaxis]"
   ]
  },
  {
   "cell_type": "code",
   "execution_count": 85,
   "id": "52e4f17e",
   "metadata": {},
   "outputs": [
    {
     "data": {
      "text/plain": [
       "(1, 10, 1)"
      ]
     },
     "execution_count": 85,
     "metadata": {},
     "output_type": "execute_result"
    }
   ],
   "source": [
    "b[np.newaxis, :, np.newaxis].shape"
   ]
  },
  {
   "cell_type": "markdown",
   "id": "54c6e5e6",
   "metadata": {},
   "source": [
    "Эти опции необходимы для соблюдения соразмерности массивов при выполнении математических операций, вычислений в python"
   ]
  },
  {
   "cell_type": "markdown",
   "id": "e94e4cc2",
   "metadata": {},
   "source": [
    "# Массивы с особыми свойствами"
   ]
  },
  {
   "cell_type": "markdown",
   "id": "a20f9642",
   "metadata": {},
   "source": [
    "Для создания массивов в бинарном коде (0 и 1) удобно применять функции \n",
    "- zeros (создание массивов из нулей)\n",
    "- ones (создание массивов из единиц)\n",
    "Создадим матрицу из нулей со сторонами 3 и 2:"
   ]
  },
  {
   "cell_type": "code",
   "execution_count": 88,
   "id": "62c2aef5",
   "metadata": {},
   "outputs": [
    {
     "data": {
      "text/plain": [
       "array([[0., 0.],\n",
       "       [0., 0.],\n",
       "       [0., 0.]])"
      ]
     },
     "execution_count": 88,
     "metadata": {},
     "output_type": "execute_result"
    }
   ],
   "source": [
    "np.zeros(shape=(3,2))"
   ]
  },
  {
   "cell_type": "code",
   "execution_count": 89,
   "id": "3ba8c0ff",
   "metadata": {},
   "outputs": [
    {
     "data": {
      "text/plain": [
       "array([[1., 1.],\n",
       "       [1., 1.],\n",
       "       [1., 1.]])"
      ]
     },
     "execution_count": 89,
     "metadata": {},
     "output_type": "execute_result"
    }
   ],
   "source": [
    "np.ones(shape=(3,2))"
   ]
  },
  {
   "cell_type": "markdown",
   "id": "6ce3559e",
   "metadata": {},
   "source": [
    "Для создания соразмерных массивов применяем оператор like"
   ]
  },
  {
   "cell_type": "code",
   "execution_count": 90,
   "id": "35562f00",
   "metadata": {},
   "outputs": [
    {
     "data": {
      "text/plain": [
       "array([[1., 1., 1., 1., 1.],\n",
       "       [1., 1., 1., 1., 1.]])"
      ]
     },
     "execution_count": 90,
     "metadata": {},
     "output_type": "execute_result"
    }
   ],
   "source": [
    "np.ones_like(a)"
   ]
  },
  {
   "cell_type": "code",
   "execution_count": 92,
   "id": "83ab4713",
   "metadata": {},
   "outputs": [
    {
     "data": {
      "text/plain": [
       "array([[0., 0., 0., 0., 0.],\n",
       "       [0., 0., 0., 0., 0.]])"
      ]
     },
     "execution_count": 92,
     "metadata": {},
     "output_type": "execute_result"
    }
   ],
   "source": [
    "np.zeros_like(a)"
   ]
  },
  {
   "cell_type": "markdown",
   "id": "f2209eb0",
   "metadata": {},
   "source": [
    "Для создания \"коробочных\" массивов с диагональю из единиц применяем оператор \"eye\" (Для решения уравнений методом Гауса):"
   ]
  },
  {
   "cell_type": "code",
   "execution_count": 95,
   "id": "81061190",
   "metadata": {},
   "outputs": [
    {
     "data": {
      "text/plain": [
       "array([[1., 0., 0.],\n",
       "       [0., 1., 0.],\n",
       "       [0., 0., 1.]])"
      ]
     },
     "execution_count": 95,
     "metadata": {},
     "output_type": "execute_result"
    }
   ],
   "source": [
    "np.eye(3)"
   ]
  },
  {
   "cell_type": "markdown",
   "id": "88bddca0",
   "metadata": {},
   "source": [
    "Оператор arange создает последовательность элементов. Например от 1 до 10 c шагом 2 (Полезно при использовании численных методов Фибоначчи):"
   ]
  },
  {
   "cell_type": "code",
   "execution_count": 100,
   "id": "4f09da84",
   "metadata": {},
   "outputs": [
    {
     "data": {
      "text/plain": [
       "array([1, 4, 7])"
      ]
     },
     "execution_count": 100,
     "metadata": {},
     "output_type": "execute_result"
    }
   ],
   "source": [
    "np.arange(1, 10, 3)"
   ]
  },
  {
   "cell_type": "markdown",
   "id": "4d2da345",
   "metadata": {},
   "source": [
    "При помощи оператора 'linspace' можно разбить взятый векторный массив на несколько равных интервалов: "
   ]
  },
  {
   "cell_type": "code",
   "execution_count": 101,
   "id": "a49536f6",
   "metadata": {},
   "outputs": [
    {
     "data": {
      "text/plain": [
       "array([0. , 0.2, 0.4, 0.6, 0.8, 1. ])"
      ]
     },
     "execution_count": 101,
     "metadata": {},
     "output_type": "execute_result"
    }
   ],
   "source": [
    "np.linspace(0, 1, 6, endpoint=True)"
   ]
  },
  {
   "cell_type": "markdown",
   "id": "9be62227",
   "metadata": {},
   "source": [
    "# Array и Asarray"
   ]
  },
  {
   "cell_type": "markdown",
   "id": "233bd71e",
   "metadata": {},
   "source": [
    "Создание нескольких компилируемых массивов осуществляется при помощи функций:\n",
    "- array - создает массив с копией в переменной, например 'a'\n",
    "- asarray возвращает объект массив, прикрепленный к переменной 'a'."
   ]
  },
  {
   "cell_type": "markdown",
   "id": "06c5cb94",
   "metadata": {},
   "source": [
    "Для начала задаем массив 'a'"
   ]
  },
  {
   "cell_type": "code",
   "execution_count": 110,
   "id": "fec1333a",
   "metadata": {},
   "outputs": [
    {
     "data": {
      "text/plain": [
       "(array([1., 2., 3., 4., 5., 6., 7.]), array([1., 2., 3., 4., 5., 6., 7.]))"
      ]
     },
     "execution_count": 110,
     "metadata": {},
     "output_type": "execute_result"
    }
   ],
   "source": [
    "a=np.array([1, 2, 3, 4, 5, 6, 7], dtype=np.float64)\n",
    "b=np.asarray(a)\n",
    "c=np.array(a)\n",
    "\n",
    "b, c"
   ]
  },
  {
   "cell_type": "markdown",
   "id": "cfc6f1fa",
   "metadata": {},
   "source": [
    "... и проверяем путем замены одной из переменных в массиве 'a' (порядковые номера в [] начинаются с 0)"
   ]
  },
  {
   "cell_type": "code",
   "execution_count": null,
   "id": "1ed4350d",
   "metadata": {},
   "outputs": [],
   "source": []
  },
  {
   "cell_type": "code",
   "execution_count": 130,
   "id": "38ee42af",
   "metadata": {},
   "outputs": [],
   "source": [
    "a[0] = 0"
   ]
  },
  {
   "cell_type": "markdown",
   "id": "fca266ef",
   "metadata": {},
   "source": [
    "b, c"
   ]
  },
  {
   "cell_type": "markdown",
   "id": "1b21e2cf",
   "metadata": {},
   "source": [
    "... таким образом в массиве 'b', который создавали при помощи (asarray) изменилась первая переменная, в массиве 'c' (array) весь ряд остался без изменений "
   ]
  },
  {
   "cell_type": "markdown",
   "id": "0d6e13ef",
   "metadata": {},
   "source": [
    "# ОСНОВНЫЕ ОПЕРАЦИИ С МАССИВАМИ"
   ]
  },
  {
   "cell_type": "markdown",
   "id": "32f4d700",
   "metadata": {},
   "source": [
    "# Унарные операции со скалярными величинами\n",
    "Скалярная величина equal статическая величина (НЕ векторная)\n",
    "С массивами данных можно выполнять аналогичные математические преобразования, как и с целыми числами. "
   ]
  },
  {
   "cell_type": "code",
   "execution_count": 228,
   "id": "0be6091d",
   "metadata": {},
   "outputs": [
    {
     "data": {
      "text/plain": [
       "array([[0, 1, 2, 3, 4],\n",
       "       [5, 6, 7, 8, 9]])"
      ]
     },
     "execution_count": 228,
     "metadata": {},
     "output_type": "execute_result"
    }
   ],
   "source": [
    "a = np.arange(10).reshape(2, -1) #создаем массив\n",
    "a"
   ]
  },
  {
   "cell_type": "markdown",
   "id": "4bcc342a",
   "metadata": {},
   "source": [
    "Возведение в степень:"
   ]
  },
  {
   "cell_type": "code",
   "execution_count": 146,
   "id": "842b59a7",
   "metadata": {},
   "outputs": [
    {
     "data": {
      "text/plain": [
       "array([[  0,   1,   8,  27,  64],\n",
       "       [125, 216, 343, 512, 729]], dtype=int32)"
      ]
     },
     "execution_count": 146,
     "metadata": {},
     "output_type": "execute_result"
    }
   ],
   "source": [
    "a ** 3 # например в куб"
   ]
  },
  {
   "cell_type": "markdown",
   "id": "0e4938e8",
   "metadata": {},
   "source": [
    "Умножение и сложение:"
   ]
  },
  {
   "cell_type": "code",
   "execution_count": 140,
   "id": "a6b7a505",
   "metadata": {},
   "outputs": [
    {
     "data": {
      "text/plain": [
       "array([[ 0,  2,  4,  6,  8],\n",
       "       [10, 12, 14, 16, 18]])"
      ]
     },
     "execution_count": 140,
     "metadata": {},
     "output_type": "execute_result"
    }
   ],
   "source": [
    "a * 2 # умножение"
   ]
  },
  {
   "cell_type": "code",
   "execution_count": 145,
   "id": "e3431449",
   "metadata": {},
   "outputs": [
    {
     "data": {
      "text/plain": [
       "array([[ 2,  3,  4,  5,  6],\n",
       "       [ 7,  8,  9, 10, 11]])"
      ]
     },
     "execution_count": 145,
     "metadata": {},
     "output_type": "execute_result"
    }
   ],
   "source": [
    "2 + a # сложение"
   ]
  },
  {
   "cell_type": "markdown",
   "id": "1c291514",
   "metadata": {},
   "source": [
    "Извлечение квадратного корня:"
   ]
  },
  {
   "cell_type": "code",
   "execution_count": 147,
   "id": "0a1d3607",
   "metadata": {},
   "outputs": [
    {
     "data": {
      "text/plain": [
       "array([[0.        , 1.        , 1.41421356, 1.73205081, 2.        ],\n",
       "       [2.23606798, 2.44948974, 2.64575131, 2.82842712, 3.        ]])"
      ]
     },
     "execution_count": 147,
     "metadata": {},
     "output_type": "execute_result"
    }
   ],
   "source": [
    "np.sqrt(a) # квадратный корень"
   ]
  },
  {
   "cell_type": "markdown",
   "id": "a69fb3ee",
   "metadata": {},
   "source": [
    "Возведение в степень:"
   ]
  },
  {
   "cell_type": "code",
   "execution_count": 234,
   "id": "a0cbc075",
   "metadata": {},
   "outputs": [
    {
     "data": {
      "text/plain": [
       "array([[0, 1, 2, 3, 4],\n",
       "       [5, 6, 7, 8, 9]])"
      ]
     },
     "execution_count": 234,
     "metadata": {},
     "output_type": "execute_result"
    }
   ],
   "source": [
    "a = np.arange(10).reshape(2, -1) #создаем массив\n",
    "a"
   ]
  },
  {
   "cell_type": "code",
   "execution_count": 235,
   "id": "84e54379",
   "metadata": {},
   "outputs": [
    {
     "data": {
      "text/plain": [
       "array([[1.00000000e+00, 2.71828183e+00, 7.38905610e+00, 2.00855369e+01,\n",
       "        5.45981500e+01],\n",
       "       [1.48413159e+02, 4.03428793e+02, 1.09663316e+03, 2.98095799e+03,\n",
       "        8.10308393e+03]])"
      ]
     },
     "execution_count": 235,
     "metadata": {},
     "output_type": "execute_result"
    }
   ],
   "source": [
    "np.exp(a)"
   ]
  },
  {
   "cell_type": "markdown",
   "id": "85c01819",
   "metadata": {},
   "source": [
    "Взятие логарифмов:"
   ]
  },
  {
   "cell_type": "code",
   "execution_count": 231,
   "id": "6372c91b",
   "metadata": {},
   "outputs": [],
   "source": [
    "a[0] = 1"
   ]
  },
  {
   "cell_type": "code",
   "execution_count": 158,
   "id": "10dad588",
   "metadata": {},
   "outputs": [
    {
     "data": {
      "text/plain": [
       "array([[0.        , 0.        , 0.        , 0.        , 0.        ],\n",
       "       [1.60943791, 1.79175947, 1.94591015, 2.07944154, 2.19722458]])"
      ]
     },
     "execution_count": 158,
     "metadata": {},
     "output_type": "execute_result"
    }
   ],
   "source": [
    "np.log(1 * a) # обычный логарифм"
   ]
  },
  {
   "cell_type": "code",
   "execution_count": 159,
   "id": "211fab2a",
   "metadata": {},
   "outputs": [
    {
     "data": {
      "text/plain": [
       "array([[0.        , 0.        , 0.        , 0.        , 0.        ],\n",
       "       [2.32192809, 2.5849625 , 2.80735492, 3.        , 3.169925  ]])"
      ]
     },
     "execution_count": 159,
     "metadata": {},
     "output_type": "execute_result"
    }
   ],
   "source": [
    "np.log2(1 * a) # двоичный логарифм"
   ]
  },
  {
   "cell_type": "code",
   "execution_count": 236,
   "id": "971a4736",
   "metadata": {},
   "outputs": [
    {
     "data": {
      "text/plain": [
       "array([[False, False,  True,  True,  True],\n",
       "       [ True,  True,  True,  True,  True]])"
      ]
     },
     "execution_count": 236,
     "metadata": {},
     "output_type": "execute_result"
    }
   ],
   "source": [
    "a > 1 # сравнение (булевая логика)"
   ]
  },
  {
   "cell_type": "markdown",
   "id": "45cee703",
   "metadata": {},
   "source": [
    "# Агрегирующие операции\n",
    "При помощи данных операций можно производить вычисления с несколькими массивами данных. Для начала создадим случайный массив при помощи функции 'np.random.seed'"
   ]
  },
  {
   "cell_type": "code",
   "execution_count": 183,
   "id": "a8288a2a",
   "metadata": {},
   "outputs": [],
   "source": [
    "import random #генератор случайных чисел"
   ]
  },
  {
   "cell_type": "code",
   "execution_count": 210,
   "id": "fa4354a6",
   "metadata": {
    "scrolled": true
   },
   "outputs": [
    {
     "data": {
      "text/plain": [
       "array([[ 0,  1,  2,  3,  4],\n",
       "       [ 5,  6,  7,  8,  9],\n",
       "       [10, 11, 12, 13, 14],\n",
       "       [15, 16, 17, 18, 19],\n",
       "       [20, 21, 22, 23, 24]])"
      ]
     },
     "execution_count": 210,
     "metadata": {},
     "output_type": "execute_result"
    }
   ],
   "source": [
    "a = np.arange(25).reshape(5, -1) #создаем массив\n",
    "a"
   ]
  },
  {
   "cell_type": "markdown",
   "id": "305f5b9b",
   "metadata": {},
   "source": [
    "...и выведем основные функции: "
   ]
  },
  {
   "cell_type": "code",
   "execution_count": 211,
   "id": "705a3bfd",
   "metadata": {},
   "outputs": [
    {
     "data": {
      "text/plain": [
       "(0, 24, 24, 300, 0, 12.0)"
      ]
     },
     "execution_count": 211,
     "metadata": {},
     "output_type": "execute_result"
    }
   ],
   "source": [
    "a.min(), a.max(), a.argmax(), a.sum(), a.prod(), a.mean()"
   ]
  },
  {
   "cell_type": "markdown",
   "id": "97879d4e",
   "metadata": {},
   "source": [
    "# Операции с массивами по осям (x,y)"
   ]
  },
  {
   "cell_type": "markdown",
   "id": "561cb2db",
   "metadata": {},
   "source": [
    "a.agg(axis*axis) \n",
    "axis=0 - это всегда Y\n",
    "axis=1 - это всегда X"
   ]
  },
  {
   "cell_type": "code",
   "execution_count": 7,
   "id": "19a2c0b5",
   "metadata": {},
   "outputs": [
    {
     "data": {
      "text/plain": [
       "array([[ 0,  1,  2,  3,  4],\n",
       "       [ 5,  6,  7,  8,  9],\n",
       "       [10, 11, 12, 13, 14],\n",
       "       [15, 16, 17, 18, 19],\n",
       "       [20, 21, 22, 23, 24]])"
      ]
     },
     "execution_count": 7,
     "metadata": {},
     "output_type": "execute_result"
    }
   ],
   "source": [
    "a = np.arange(25).reshape(5, -1) # составляем двумерный массив\n",
    "a"
   ]
  },
  {
   "cell_type": "markdown",
   "id": "f6b83e57",
   "metadata": {},
   "source": [
    "# Задача A:\n",
    "1). Необходимо узнать max значение по столбцам - по значению 'y' (axis0)\n",
    "2). Необходимо узнать min значение по строкам - по значению 'x' (axis1)\n",
    "Решение:"
   ]
  },
  {
   "cell_type": "code",
   "execution_count": 223,
   "id": "383168f8",
   "metadata": {},
   "outputs": [
    {
     "data": {
      "text/plain": [
       "array([20, 21, 22, 23, 24])"
      ]
     },
     "execution_count": 223,
     "metadata": {},
     "output_type": "execute_result"
    }
   ],
   "source": [
    "a.max(axis=0) #редукция вдоль оси Y axis=0 (=max по столбцам)"
   ]
  },
  {
   "cell_type": "code",
   "execution_count": 237,
   "id": "4ff77614",
   "metadata": {},
   "outputs": [
    {
     "data": {
      "text/plain": [
       "array([0, 5])"
      ]
     },
     "execution_count": 237,
     "metadata": {},
     "output_type": "execute_result"
    }
   ],
   "source": [
    "a.min(axis=1) #дедукция вдоль оси X axis=1 (=min по строкам)"
   ]
  },
  {
   "cell_type": "markdown",
   "id": "9043eead",
   "metadata": {},
   "source": [
    "# Задача B:\n",
    "Найти суммы всех \"горизонталей\" и \"вертикалей:"
   ]
  },
  {
   "cell_type": "code",
   "execution_count": 225,
   "id": "7cd456bd",
   "metadata": {},
   "outputs": [
    {
     "data": {
      "text/plain": [
       "array([ 10,  35,  60,  85, 110])"
      ]
     },
     "execution_count": 225,
     "metadata": {},
     "output_type": "execute_result"
    }
   ],
   "source": [
    "a.sum(axis=1) #суммирование всех значение вдоль оси X axis=1 (горизонтьаль)"
   ]
  },
  {
   "cell_type": "code",
   "execution_count": 226,
   "id": "7d820bc0",
   "metadata": {},
   "outputs": [
    {
     "data": {
      "text/plain": [
       "array([50, 55, 60, 65, 70])"
      ]
     },
     "execution_count": 226,
     "metadata": {},
     "output_type": "execute_result"
    }
   ],
   "source": [
    "a.sum(axis=0) #суммирование всех значение вдоль оси Y axis=0 (вертикаль)"
   ]
  },
  {
   "cell_type": "markdown",
   "id": "a84b76c7",
   "metadata": {},
   "source": [
    "# Задача С\n",
    "Найти индекс (аргумент) максимального значения argmax"
   ]
  },
  {
   "cell_type": "code",
   "execution_count": 14,
   "id": "309a2fdb",
   "metadata": {
    "scrolled": true
   },
   "outputs": [
    {
     "data": {
      "text/plain": [
       "array([[ 0,  1,  2,  3,  4],\n",
       "       [ 5,  6,  7,  8,  9],\n",
       "       [10, 11, 12, 13, 14],\n",
       "       [15, 16, 17, 18, 19],\n",
       "       [20, 21, 22, 23, 24]])"
      ]
     },
     "execution_count": 14,
     "metadata": {},
     "output_type": "execute_result"
    }
   ],
   "source": [
    "a"
   ]
  },
  {
   "cell_type": "code",
   "execution_count": 15,
   "id": "338fff80",
   "metadata": {},
   "outputs": [
    {
     "data": {
      "text/plain": [
       "24"
      ]
     },
     "execution_count": 15,
     "metadata": {},
     "output_type": "execute_result"
    }
   ],
   "source": [
    "a.argmax()"
   ]
  },
  {
   "cell_type": "markdown",
   "id": "b7f0ec10",
   "metadata": {},
   "source": [
    "# Задача D\n",
    "Узнать какую задачу решает данная функция"
   ]
  },
  {
   "cell_type": "code",
   "execution_count": 13,
   "id": "2010e47f",
   "metadata": {},
   "outputs": [
    {
     "name": "stdout",
     "output_type": "stream",
     "text": [
      "value = 21\n",
      "index = [4, 1]\n"
     ]
    }
   ],
   "source": [
    "i = np.argmax(a)\n",
    "i, j = i // a.shape[1], 1 % a.shape[1] \n",
    "\n",
    "print(\"value =\", a[i, j])\n",
    "print(\"index =\", [i, j])"
   ]
  },
  {
   "cell_type": "code",
   "execution_count": 18,
   "id": "432d1621",
   "metadata": {},
   "outputs": [
    {
     "data": {
      "text/plain": [
       "(4, 4)"
      ]
     },
     "execution_count": 18,
     "metadata": {},
     "output_type": "execute_result"
    }
   ],
   "source": [
    "np.unravel_index(np.argmax(a), a.shape)"
   ]
  },
  {
   "cell_type": "markdown",
   "id": "feb780c3",
   "metadata": {},
   "source": [
    "Сравнение скоростей выполнения функций при помощи библиотеки Nympy и выполнения той же функции путем базовой команды Python: \n",
    "1). Создаем массив:"
   ]
  },
  {
   "cell_type": "code",
   "execution_count": 19,
   "id": "fc265f0a",
   "metadata": {},
   "outputs": [],
   "source": [
    "b = np.random.randint(0, 10, size=(1_000, 1_000))\n",
    "b[30, 42] = 20\n",
    "b = b.ravel()"
   ]
  },
  {
   "cell_type": "markdown",
   "id": "1ba426d9",
   "metadata": {},
   "source": [
    "скорость выполнения при помощи Numpy:"
   ]
  },
  {
   "cell_type": "code",
   "execution_count": 20,
   "id": "b329e687",
   "metadata": {},
   "outputs": [
    {
     "name": "stdout",
     "output_type": "stream",
     "text": [
      "824 µs ± 51.5 µs per loop (mean ± std. dev. of 7 runs, 1000 loops each)\n"
     ]
    }
   ],
   "source": [
    "%%timeit #оператор замера скорости выполнения команды\n",
    "\n",
    "b.max()"
   ]
  },
  {
   "cell_type": "code",
   "execution_count": null,
   "id": "ec12f817",
   "metadata": {},
   "outputs": [],
   "source": [
    "та же функция вызванная базовой командой Python:"
   ]
  },
  {
   "cell_type": "code",
   "execution_count": 21,
   "id": "7ad148d9",
   "metadata": {},
   "outputs": [
    {
     "name": "stdout",
     "output_type": "stream",
     "text": [
      "69.5 ms ± 2.42 ms per loop (mean ± std. dev. of 7 runs, 10 loops each)\n"
     ]
    }
   ],
   "source": [
    "%%timeit\n",
    "\n",
    "max(b)"
   ]
  },
  {
   "cell_type": "markdown",
   "id": "32798ae8",
   "metadata": {},
   "source": [
    "Ка мы видим скорость выполнения команды mx(b) ниже. Это связано с тем, что сначала программа обращается к списку b, выполняет внутренний алгоритм 'for', а уже затем вычисляет max из списка данных. "
   ]
  },
  {
   "cell_type": "markdown",
   "id": "20703bb7",
   "metadata": {},
   "source": [
    "# Унарные операции над булевыми массивами"
   ]
  },
  {
   "cell_type": "markdown",
   "id": "aabb8a66",
   "metadata": {},
   "source": [
    "- any - возвращает массив, если есть хотя бы один элемент (true)\n",
    "- all - возвращает массив, если все эллементы соответствуют выбранному критерию"
   ]
  },
  {
   "cell_type": "code",
   "execution_count": 23,
   "id": "e22cf36e",
   "metadata": {},
   "outputs": [
    {
     "data": {
      "text/plain": [
       "array([ True,  True, False, False,  True])"
      ]
     },
     "execution_count": 23,
     "metadata": {},
     "output_type": "execute_result"
    }
   ],
   "source": [
    "a = np.asarray([True, True, False, False, True])\n",
    "a"
   ]
  },
  {
   "cell_type": "code",
   "execution_count": 24,
   "id": "1c4f2a4e",
   "metadata": {},
   "outputs": [
    {
     "data": {
      "text/plain": [
       "(True, True, True)"
      ]
     },
     "execution_count": 24,
     "metadata": {},
     "output_type": "execute_result"
    }
   ],
   "source": [
    "a.any(), np.any(a), any(a) #одна и таже функция, выполняемая двумя разными способами. Первый вариант предпочтительнее"
   ]
  },
  {
   "cell_type": "code",
   "execution_count": 28,
   "id": "7b57d556",
   "metadata": {},
   "outputs": [
    {
     "data": {
      "text/plain": [
       "(False, False, False)"
      ]
     },
     "execution_count": 28,
     "metadata": {},
     "output_type": "execute_result"
    }
   ],
   "source": [
    "a.all(), np.all(a), all(a) #одна и таже функция, выполняемая двумя разными способами. Первый вариант предпочтительнее"
   ]
  },
  {
   "cell_type": "code",
   "execution_count": 32,
   "id": "f5a4ce01",
   "metadata": {},
   "outputs": [
    {
     "data": {
      "text/plain": [
       "array([[ True,  True, False, False,  True],\n",
       "       [ True, False, False,  True, False]])"
      ]
     },
     "execution_count": 32,
     "metadata": {},
     "output_type": "execute_result"
    }
   ],
   "source": [
    "a = np.asarray([[True, True, False, False, True], \n",
    "               [True, False, False, True, False]])\n",
    "a"
   ]
  },
  {
   "cell_type": "markdown",
   "id": "275fa68a",
   "metadata": {},
   "source": [
    "- logical_not инвертирует булевые массивы обратно в исходное состояние:"
   ]
  },
  {
   "cell_type": "code",
   "execution_count": 33,
   "id": "f5daf815",
   "metadata": {},
   "outputs": [
    {
     "data": {
      "text/plain": [
       "array([[False, False,  True,  True, False],\n",
       "       [False,  True,  True, False,  True]])"
      ]
     },
     "execution_count": 33,
     "metadata": {},
     "output_type": "execute_result"
    }
   ],
   "source": [
    "np.logical_not(a)"
   ]
  },
  {
   "cell_type": "code",
   "execution_count": 35,
   "id": "bce147cb",
   "metadata": {},
   "outputs": [
    {
     "data": {
      "text/plain": [
       "array([[-2, -2, -1, -1, -2],\n",
       "       [-2, -1, -1, -2, -1]], dtype=int32)"
      ]
     },
     "execution_count": 35,
     "metadata": {},
     "output_type": "execute_result"
    }
   ],
   "source": [
    "~a"
   ]
  },
  {
   "cell_type": "markdown",
   "id": "2b0ca0c7",
   "metadata": {},
   "source": [
    "# Домашнее задание:\n",
    "- Составить двумерные равноразмерные массивы кратные 3-м\n",
    "- Провести вычисления сумм \"вертикальных\" и \"горизонтальных\" полей\n",
    "- Найти закономерности"
   ]
  }
 ],
 "metadata": {
  "kernelspec": {
   "display_name": "Python 3 (ipykernel)",
   "language": "python",
   "name": "python3"
  },
  "language_info": {
   "codemirror_mode": {
    "name": "ipython",
    "version": 3
   },
   "file_extension": ".py",
   "mimetype": "text/x-python",
   "name": "python",
   "nbconvert_exporter": "python",
   "pygments_lexer": "ipython3",
   "version": "3.7.11"
  }
 },
 "nbformat": 4,
 "nbformat_minor": 5
}
