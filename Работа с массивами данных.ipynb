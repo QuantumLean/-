{
 "cells": [
  {
   "cell_type": "markdown",
   "id": "c6812432",
   "metadata": {},
   "source": [
    "# Полезные ссылки"
   ]
  },
  {
   "cell_type": "markdown",
   "id": "aff97768",
   "metadata": {},
   "source": [
    "https://www.itproger.com/course/python \n",
    "Python для начинающих. Достаточно неплохо изложены базовый материал, но лучше применять Jupyter Notebook в качестве оболочки.быстрого ИМХО. Из плюсов: просто и быстро"
   ]
  },
  {
   "cell_type": "markdown",
   "id": "b983718d",
   "metadata": {},
   "source": [
    "https://www.youtube.com/watch?v=EHVmseAhkx0 Основы матанализа для Data Science. Что важно знать из матана в интеллектуальном анализе данных (Middle Senior). Без лишней воды, просто и быстро"
   ]
  },
  {
   "cell_type": "markdown",
   "id": "d4662165",
   "metadata": {},
   "source": [
    "# Работа с массивами данных"
   ]
  },
  {
   "cell_type": "markdown",
   "id": "9a143f09",
   "metadata": {},
   "source": [
    "Массивы - это структура данных, хранящая набор значений (элементов массива), идентифицируемых по индексу или набору индексов, принимающих целые (или приводимые к целым) значения из некоторого заданного непрерывного диапазона:"
   ]
  },
  {
   "cell_type": "markdown",
   "id": "36cdf91d",
   "metadata": {},
   "source": [
    "Массив данных может быть отображен в качестве одной переменной. Размерность массива — это количество индексов, необходимое для однозначной адресации элемента в рамках массива[1][2]. По количеству используемых индексов массивы делятся на одномерные, двумерные."
   ]
  },
  {
   "cell_type": "markdown",
   "id": "2bfe21c5",
   "metadata": {},
   "source": [
    "ОДНОМЕРНЫЕ МАССИВЫ:"
   ]
  },
  {
   "cell_type": "code",
   "execution_count": 41,
   "id": "57983602",
   "metadata": {},
   "outputs": [
    {
     "data": {
      "text/plain": [
       "array([1, 2, 3, 4, 5, 6, 7, 8, 9])"
      ]
     },
     "execution_count": 41,
     "metadata": {},
     "output_type": "execute_result"
    }
   ],
   "source": [
    "a = np.array([1, 2, 3, 4, 5, 6, 7, 8, 9])\n",
    "a"
   ]
  },
  {
   "cell_type": "markdown",
   "id": "585f8e44",
   "metadata": {},
   "source": [
    " dtype - аргумент, при помощи которого формируется десятичные цифры"
   ]
  },
  {
   "cell_type": "code",
   "execution_count": 45,
   "id": "fe543516",
   "metadata": {},
   "outputs": [
    {
     "data": {
      "text/plain": [
       "array([1., 2., 3., 4., 5., 6., 7., 8., 9.])"
      ]
     },
     "execution_count": 45,
     "metadata": {},
     "output_type": "execute_result"
    }
   ],
   "source": [
    "a = np.array([1, 2, 3, 4, 5, 6, 7, 8, 9], dtype=np.float64)\n",
    "a"
   ]
  },
  {
   "cell_type": "markdown",
   "id": "d1d75952",
   "metadata": {},
   "source": [
    "ДВУМЕРНЫЕ МАССИВЫ:"
   ]
  },
  {
   "cell_type": "markdown",
   "id": "40281a88",
   "metadata": {},
   "source": [
    "Двумерные массивы должны иметь одинаковую длину и выделяться синтаксисом:"
   ]
  },
  {
   "cell_type": "code",
   "execution_count": 51,
   "id": "6e797fb0",
   "metadata": {},
   "outputs": [
    {
     "data": {
      "text/plain": [
       "array([[1., 2., 3., 4., 5.],\n",
       "       [5., 6., 7., 8., 9.]])"
      ]
     },
     "execution_count": 51,
     "metadata": {},
     "output_type": "execute_result"
    }
   ],
   "source": [
    "a = np.array([[1, 2, 3, 4, 5],\n",
    "              [5, 6, 7, 8, 9]], dtype=float)\n",
    "a"
   ]
  },
  {
   "cell_type": "markdown",
   "id": "b2118c40",
   "metadata": {},
   "source": [
    "# Атрибуты массива"
   ]
  },
  {
   "cell_type": "markdown",
   "id": "f0e2c078",
   "metadata": {},
   "source": [
    "Массивы данных служат для ускорения работы с данными. Наряду со списками, кортежами и строками. Похожи на списки, но с ограничением по:\n",
    "- dtype - типу данных\n",
    "- shape - размеру элементов\n",
    "Атрибуты массивов: \n",
    "- shape - размер массива по горизонтали и вертикали в символах;\n",
    "- ndim - количество размерностей;\n",
    "- dtype - возвращает к исходному формату, хранящегося в текущей сессии"
   ]
  },
  {
   "cell_type": "code",
   "execution_count": 52,
   "id": "a3df8671",
   "metadata": {},
   "outputs": [
    {
     "data": {
      "text/plain": [
       "(2, 5)"
      ]
     },
     "execution_count": 52,
     "metadata": {},
     "output_type": "execute_result"
    }
   ],
   "source": [
    "a.shape"
   ]
  },
  {
   "cell_type": "code",
   "execution_count": 53,
   "id": "872850a4",
   "metadata": {},
   "outputs": [
    {
     "data": {
      "text/plain": [
       "2"
      ]
     },
     "execution_count": 53,
     "metadata": {},
     "output_type": "execute_result"
    }
   ],
   "source": [
    "a.ndim"
   ]
  },
  {
   "cell_type": "code",
   "execution_count": 54,
   "id": "357caacf",
   "metadata": {},
   "outputs": [
    {
     "data": {
      "text/plain": [
       "dtype('float64')"
      ]
     },
     "execution_count": 54,
     "metadata": {},
     "output_type": "execute_result"
    }
   ],
   "source": [
    "a.dtype"
   ]
  },
  {
   "cell_type": "markdown",
   "id": "5f4cd680",
   "metadata": {},
   "source": [
    "При помощи функции astype Вы можете сконвертировать массив (указать тип массива) "
   ]
  },
  {
   "cell_type": "code",
   "execution_count": 55,
   "id": "0b0921e7",
   "metadata": {},
   "outputs": [
    {
     "data": {
      "text/plain": [
       "array([[1, 2, 3, 4, 5],\n",
       "       [5, 6, 7, 8, 9]])"
      ]
     },
     "execution_count": 55,
     "metadata": {},
     "output_type": "execute_result"
    }
   ],
   "source": [
    "a.astype(int)"
   ]
  },
  {
   "cell_type": "markdown",
   "id": "7f025ff7",
   "metadata": {},
   "source": [
    "# Размерность массивов и хранение"
   ]
  },
  {
   "cell_type": "markdown",
   "id": "8752b9a0",
   "metadata": {},
   "source": [
    "ИЗМЕНЕНИЕ ФОРМЫ МАССИВА"
   ]
  },
  {
   "cell_type": "markdown",
   "id": "a039c476",
   "metadata": {},
   "source": [
    "Массивы в библиотеке хранятся в строгой заданной последовательности, как единый большой кусок данных. Поэтому изменение последовательности просто указывает: где начинается / заканчивается строка."
   ]
  },
  {
   "cell_type": "code",
   "execution_count": 66,
   "id": "9c6ada85",
   "metadata": {},
   "outputs": [
    {
     "data": {
      "text/plain": [
       "array([[1., 2., 3., 4., 5.],\n",
       "       [5., 6., 7., 8., 9.]])"
      ]
     },
     "execution_count": 66,
     "metadata": {},
     "output_type": "execute_result"
    }
   ],
   "source": [
    "a"
   ]
  },
  {
   "cell_type": "markdown",
   "id": "8cd5f883",
   "metadata": {},
   "source": [
    "Вместе с атрибутами типа (dtype) и размера (shape)..."
   ]
  },
  {
   "cell_type": "code",
   "execution_count": 61,
   "id": "75d634d1",
   "metadata": {},
   "outputs": [
    {
     "data": {
      "text/plain": [
       "dtype('float64')"
      ]
     },
     "execution_count": 61,
     "metadata": {},
     "output_type": "execute_result"
    }
   ],
   "source": [
    "a.dtype"
   ]
  },
  {
   "cell_type": "markdown",
   "id": "d5e78976",
   "metadata": {},
   "source": [
    "... атрибут strides показывает, насколько байтов необходимо отступить прежде чем перейти к следующему элементу в строке или в столбце. "
   ]
  },
  {
   "cell_type": "code",
   "execution_count": 57,
   "id": "637b0259",
   "metadata": {},
   "outputs": [
    {
     "data": {
      "text/plain": [
       "(40, 8)"
      ]
     },
     "execution_count": 57,
     "metadata": {},
     "output_type": "execute_result"
    }
   ],
   "source": [
    "a.strides"
   ]
  },
  {
   "cell_type": "markdown",
   "id": "e7af3fa0",
   "metadata": {},
   "source": [
    "Размер 1-го числа = 8 байт. В строке 5 чисел. Следовательно размер строки из 5 чисел равен 8*5=40 байт:"
   ]
  },
  {
   "cell_type": "code",
   "execution_count": 58,
   "id": "713cf2c8",
   "metadata": {},
   "outputs": [
    {
     "data": {
      "text/plain": [
       "8"
      ]
     },
     "execution_count": 58,
     "metadata": {},
     "output_type": "execute_result"
    }
   ],
   "source": [
    "a.dtype.itemsize"
   ]
  },
  {
   "cell_type": "markdown",
   "id": "b2dfd74a",
   "metadata": {},
   "source": [
    "Для того, чтобы изменить параметры массива и сделать другую геометрию куска, достаточно изменить форму (shape) и размерность в байтах (straids). Это можно сделать при помощи оператора (reshape):"
   ]
  },
  {
   "cell_type": "code",
   "execution_count": 64,
   "id": "e95e8d81",
   "metadata": {},
   "outputs": [
    {
     "data": {
      "text/plain": [
       "array([[1., 2.],\n",
       "       [3., 4.],\n",
       "       [5., 5.],\n",
       "       [6., 7.],\n",
       "       [8., 9.]])"
      ]
     },
     "execution_count": 64,
     "metadata": {},
     "output_type": "execute_result"
    }
   ],
   "source": [
    "b = a.reshape(5,2)\n",
    "b"
   ]
  },
  {
   "cell_type": "markdown",
   "id": "829a64eb",
   "metadata": {},
   "source": [
    "теперь длина строки составляет 8*2=16 байтов"
   ]
  },
  {
   "cell_type": "code",
   "execution_count": 65,
   "id": "c7d4be3b",
   "metadata": {},
   "outputs": [
    {
     "data": {
      "text/plain": [
       "(16, 8)"
      ]
     },
     "execution_count": 65,
     "metadata": {},
     "output_type": "execute_result"
    }
   ],
   "source": [
    "b.strides"
   ]
  },
  {
   "cell_type": "markdown",
   "id": "02faa9ce",
   "metadata": {},
   "source": [
    "КАК ВЫТЯНУТЬ МАССИВ В ОДНУ СТРОЧКУ"
   ]
  },
  {
   "cell_type": "markdown",
   "id": "88ccbf1c",
   "metadata": {},
   "source": [
    "Метод flaven: в массиве \"b\" значение оставляем, в \"a\" меняем на [0, 1]"
   ]
  },
  {
   "cell_type": "code",
   "execution_count": 67,
   "id": "3d6620dc",
   "metadata": {},
   "outputs": [
    {
     "data": {
      "text/plain": [
       "array([1., 2., 3., 4., 5., 5., 6., 7., 8., 9.])"
      ]
     },
     "execution_count": 67,
     "metadata": {},
     "output_type": "execute_result"
    }
   ],
   "source": [
    "b = a.flatten()\n",
    "a[0, 1] = -20\n",
    "\n",
    "b"
   ]
  },
  {
   "cell_type": "code",
   "execution_count": null,
   "id": "06d65fbf",
   "metadata": {},
   "outputs": [],
   "source": [
    "Метод ravel: в отличие от flatten не оставлояет копию"
   ]
  },
  {
   "cell_type": "code",
   "execution_count": 68,
   "id": "647f29ad",
   "metadata": {},
   "outputs": [
    {
     "data": {
      "text/plain": [
       "array([  1., -30.,   3.,   4.,   5.,   5.,   6.,   7.,   8.,   9.])"
      ]
     },
     "execution_count": 68,
     "metadata": {},
     "output_type": "execute_result"
    }
   ],
   "source": [
    "b = a.ravel()\n",
    "a[0, 1] = -30\n",
    "\n",
    "b"
   ]
  },
  {
   "cell_type": "markdown",
   "id": "ba17fa2c",
   "metadata": {},
   "source": [
    "# СОЗДАНИЕ МАССИВОВ"
   ]
  },
  {
   "cell_type": "markdown",
   "id": "04a86bea",
   "metadata": {},
   "source": [
    "Массивы - это структура данных, хранящая набор значений (элементов массива), идентифицируемых по индексу или набору индексов, принимающих целые (или приводимые к целым) значения из некоторого заданного непрерывного диапазона:"
   ]
  },
  {
   "cell_type": "markdown",
   "id": "99315712",
   "metadata": {},
   "source": [
    "Массив данных может быть отображен в качестве одной переменной. Размерность массива — это количество индексов, необходимое для однозначной адресации элемента в рамках массива[1][2]. По количеству используемых индексов массивы делятся на одномерные, двумерные, трёхмерные и т. д"
   ]
  },
  {
   "cell_type": "markdown",
   "id": "fa695253",
   "metadata": {},
   "source": [
    "ОДНОМЕРНЫЕ МАССИВЫ:"
   ]
  },
  {
   "cell_type": "code",
   "execution_count": 41,
   "id": "e9885058",
   "metadata": {},
   "outputs": [
    {
     "data": {
      "text/plain": [
       "array([1, 2, 3, 4, 5, 6, 7, 8, 9])"
      ]
     },
     "execution_count": 41,
     "metadata": {},
     "output_type": "execute_result"
    }
   ],
   "source": [
    "a = np.array([1, 2, 3, 4, 5, 6, 7, 8, 9])\n",
    "a"
   ]
  },
  {
   "cell_type": "markdown",
   "id": "03d04386",
   "metadata": {},
   "source": [
    " dtype - аргумент, при помощи которого формируется десятичные цифры"
   ]
  },
  {
   "cell_type": "code",
   "execution_count": 45,
   "id": "7a2eabf3",
   "metadata": {},
   "outputs": [
    {
     "data": {
      "text/plain": [
       "array([1., 2., 3., 4., 5., 6., 7., 8., 9.])"
      ]
     },
     "execution_count": 45,
     "metadata": {},
     "output_type": "execute_result"
    }
   ],
   "source": [
    "a = np.array([1, 2, 3, 4, 5, 6, 7, 8, 9], dtype=np.float64)\n",
    "a"
   ]
  },
  {
   "cell_type": "markdown",
   "id": "c87a51cb",
   "metadata": {},
   "source": [
    "ДВУМЕРНЫЕ МАССИВЫ:"
   ]
  },
  {
   "cell_type": "markdown",
   "id": "fece686e",
   "metadata": {},
   "source": [
    "Двумерные массивы должны иметь одинаковую длину и выделяться синтаксисом:"
   ]
  },
  {
   "cell_type": "code",
   "execution_count": 51,
   "id": "1f6fd010",
   "metadata": {},
   "outputs": [
    {
     "data": {
      "text/plain": [
       "array([[1., 2., 3., 4., 5.],\n",
       "       [5., 6., 7., 8., 9.]])"
      ]
     },
     "execution_count": 51,
     "metadata": {},
     "output_type": "execute_result"
    }
   ],
   "source": [
    "a = np.array([[1, 2, 3, 4, 5],\n",
    "              [5, 6, 7, 8, 9]], dtype=float)\n",
    "a"
   ]
  },
  {
   "cell_type": "markdown",
   "id": "3d89364f",
   "metadata": {},
   "source": [
    "# Атрибуты массива"
   ]
  },
  {
   "cell_type": "markdown",
   "id": "5579b6e9",
   "metadata": {},
   "source": [
    "Массивы данных служат для ускорения работы с данными. Наряду со списками, кортежами и строками. Похожи на списки, но с ограничением по:\n",
    "- dtype - типу данных\n",
    "- shape - размеру элементов\n",
    "Атрибуты массивов: \n",
    "- shape - размер массива по горизонтали и вертикали в символах;\n",
    "- ndim - количество размерностей;\n",
    "- dtype - возвращает к исходному формату, хранящегося в текущей сессии"
   ]
  },
  {
   "cell_type": "code",
   "execution_count": 52,
   "id": "b791f77d",
   "metadata": {},
   "outputs": [
    {
     "data": {
      "text/plain": [
       "(2, 5)"
      ]
     },
     "execution_count": 52,
     "metadata": {},
     "output_type": "execute_result"
    }
   ],
   "source": [
    "a.shape"
   ]
  },
  {
   "cell_type": "code",
   "execution_count": 53,
   "id": "5eb4ab1a",
   "metadata": {},
   "outputs": [
    {
     "data": {
      "text/plain": [
       "2"
      ]
     },
     "execution_count": 53,
     "metadata": {},
     "output_type": "execute_result"
    }
   ],
   "source": [
    "a.ndim"
   ]
  },
  {
   "cell_type": "code",
   "execution_count": 54,
   "id": "8dc7ca8d",
   "metadata": {},
   "outputs": [
    {
     "data": {
      "text/plain": [
       "dtype('float64')"
      ]
     },
     "execution_count": 54,
     "metadata": {},
     "output_type": "execute_result"
    }
   ],
   "source": [
    "a.dtype"
   ]
  },
  {
   "cell_type": "markdown",
   "id": "06207f07",
   "metadata": {},
   "source": [
    "При помощи функции astype Вы можете сконвертировать массив (указать тип массива) "
   ]
  },
  {
   "cell_type": "code",
   "execution_count": 55,
   "id": "ef00b52c",
   "metadata": {},
   "outputs": [
    {
     "data": {
      "text/plain": [
       "array([[1, 2, 3, 4, 5],\n",
       "       [5, 6, 7, 8, 9]])"
      ]
     },
     "execution_count": 55,
     "metadata": {},
     "output_type": "execute_result"
    }
   ],
   "source": [
    "a.astype(int)"
   ]
  },
  {
   "cell_type": "markdown",
   "id": "0df2419c",
   "metadata": {},
   "source": [
    "# Размерность массивов и хранение"
   ]
  },
  {
   "cell_type": "markdown",
   "id": "2d614b4c",
   "metadata": {},
   "source": [
    "ИЗМЕНЕНИЕ ФОРМЫ МАССИВА"
   ]
  },
  {
   "cell_type": "markdown",
   "id": "cc1b811a",
   "metadata": {},
   "source": [
    "Массивы в библиотеке хранятся в строгой заданной последовательности, как единый большой кусок данных. Поэтому изменение последовательности просто указывает: где начинается / заканчивается строка."
   ]
  },
  {
   "cell_type": "code",
   "execution_count": 66,
   "id": "cd0951bc",
   "metadata": {},
   "outputs": [
    {
     "data": {
      "text/plain": [
       "array([[1., 2., 3., 4., 5.],\n",
       "       [5., 6., 7., 8., 9.]])"
      ]
     },
     "execution_count": 66,
     "metadata": {},
     "output_type": "execute_result"
    }
   ],
   "source": [
    "a"
   ]
  },
  {
   "cell_type": "markdown",
   "id": "36de0385",
   "metadata": {},
   "source": [
    "Вместе с атрибутами типа (dtype) и размера (shape)..."
   ]
  },
  {
   "cell_type": "code",
   "execution_count": 61,
   "id": "a3bf9141",
   "metadata": {},
   "outputs": [
    {
     "data": {
      "text/plain": [
       "dtype('float64')"
      ]
     },
     "execution_count": 61,
     "metadata": {},
     "output_type": "execute_result"
    }
   ],
   "source": [
    "a.dtype"
   ]
  },
  {
   "cell_type": "markdown",
   "id": "de0544e8",
   "metadata": {},
   "source": [
    "... атрибут strides показывает, насколько байтов необходимо отступить прежде чем перейти к следующему элементу в строке или в столбце. "
   ]
  },
  {
   "cell_type": "code",
   "execution_count": 57,
   "id": "6194ee41",
   "metadata": {},
   "outputs": [
    {
     "data": {
      "text/plain": [
       "(40, 8)"
      ]
     },
     "execution_count": 57,
     "metadata": {},
     "output_type": "execute_result"
    }
   ],
   "source": [
    "a.strides"
   ]
  },
  {
   "cell_type": "markdown",
   "id": "b68e7deb",
   "metadata": {},
   "source": [
    "Размер 1-го числа = 8 байт. В строке 5 чисел. Следовательно размер строки из 5 чисел равен 8*5=40 байт:"
   ]
  },
  {
   "cell_type": "code",
   "execution_count": 58,
   "id": "a781abd7",
   "metadata": {},
   "outputs": [
    {
     "data": {
      "text/plain": [
       "8"
      ]
     },
     "execution_count": 58,
     "metadata": {},
     "output_type": "execute_result"
    }
   ],
   "source": [
    "a.dtype.itemsize"
   ]
  },
  {
   "cell_type": "markdown",
   "id": "cf0a687f",
   "metadata": {},
   "source": [
    "Для того, чтобы изменить параметры массива и сделать другую геометрию куска, достаточно изменить форму (shape) и размерность в байтах (straids). Это можно сделать при помощи оператора (reshape):"
   ]
  },
  {
   "cell_type": "code",
   "execution_count": 64,
   "id": "d96a36b6",
   "metadata": {},
   "outputs": [
    {
     "data": {
      "text/plain": [
       "array([[1., 2.],\n",
       "       [3., 4.],\n",
       "       [5., 5.],\n",
       "       [6., 7.],\n",
       "       [8., 9.]])"
      ]
     },
     "execution_count": 64,
     "metadata": {},
     "output_type": "execute_result"
    }
   ],
   "source": [
    "b = a.reshape(5,2)\n",
    "b"
   ]
  },
  {
   "cell_type": "markdown",
   "id": "f413fcd8",
   "metadata": {},
   "source": [
    "теперь длина строки составляет 8*2=16 байтов"
   ]
  },
  {
   "cell_type": "code",
   "execution_count": 65,
   "id": "eef6001f",
   "metadata": {},
   "outputs": [
    {
     "data": {
      "text/plain": [
       "(16, 8)"
      ]
     },
     "execution_count": 65,
     "metadata": {},
     "output_type": "execute_result"
    }
   ],
   "source": [
    "b.strides"
   ]
  },
  {
   "cell_type": "markdown",
   "id": "eaf413c3",
   "metadata": {},
   "source": [
    "КАК ВЫТЯНУТЬ МАССИВ В ОДНУ СТРОЧКУ"
   ]
  },
  {
   "cell_type": "markdown",
   "id": "3dc4c12a",
   "metadata": {},
   "source": [
    "Метод flaven: в массиве \"b\" значение оставляем, в \"a\" меняем на [0, 1]"
   ]
  },
  {
   "cell_type": "code",
   "execution_count": 67,
   "id": "26818b22",
   "metadata": {},
   "outputs": [
    {
     "data": {
      "text/plain": [
       "array([1., 2., 3., 4., 5., 5., 6., 7., 8., 9.])"
      ]
     },
     "execution_count": 67,
     "metadata": {},
     "output_type": "execute_result"
    }
   ],
   "source": [
    "b = a.flatten()\n",
    "a[0, 1] = -20\n",
    "\n",
    "b"
   ]
  },
  {
   "cell_type": "markdown",
   "id": "032e050a",
   "metadata": {},
   "source": [
    "# Транспонирование массивов"
   ]
  },
  {
   "cell_type": "markdown",
   "id": "52ea3f9d",
   "metadata": {},
   "source": [
    "Транспонирование массива = замена строчек столбцами и наоборот с сохранением последовательности всех элементов. Дважды транспонированная матрица = исходному массиву.   "
   ]
  },
  {
   "cell_type": "code",
   "execution_count": 74,
   "id": "d8fdcbc5",
   "metadata": {},
   "outputs": [
    {
     "data": {
      "text/plain": [
       "array([[  1.,   5.],\n",
       "       [-40.,   6.],\n",
       "       [  3.,   7.],\n",
       "       [  4.,   8.],\n",
       "       [  5.,   9.]])"
      ]
     },
     "execution_count": 74,
     "metadata": {},
     "output_type": "execute_result"
    }
   ],
   "source": [
    "c = a.T\n",
    "a[0, 1] = -40\n",
    "\n",
    "c"
   ]
  },
  {
   "cell_type": "raw",
   "id": "c16b3d1c",
   "metadata": {},
   "source": [
    "c.strides, a.strides"
   ]
  },
  {
   "cell_type": "markdown",
   "id": "60af09fd",
   "metadata": {},
   "source": [
    "Если размерностей несколько и соответственно несколько осей, то менять нужно сразу две попарно"
   ]
  },
  {
   "cell_type": "markdown",
   "id": "35343e37",
   "metadata": {},
   "source": [
    "Arange () - это функция, используемая для получения равномерно распределенных значений в заданном интервале. Значения генерируются в пределах полуоткрытого интервала [start, stop]"
   ]
  },
  {
   "cell_type": "raw",
   "id": "30fd7b88",
   "metadata": {},
   "source": [
    "При помощи фиктивной оси с размерностью 1 можно также вытянуть в строчку , но без сохранения копии"
   ]
  },
  {
   "cell_type": "code",
   "execution_count": 80,
   "id": "b33189fc",
   "metadata": {},
   "outputs": [
    {
     "data": {
      "text/plain": [
       "array([0, 1, 2, 3, 4, 5, 6, 7, 8, 9])"
      ]
     },
     "execution_count": 80,
     "metadata": {},
     "output_type": "execute_result"
    }
   ],
   "source": [
    "b = np.arange(10)\n",
    "\n",
    "b"
   ]
  },
  {
   "cell_type": "markdown",
   "id": "f4567146",
   "metadata": {},
   "source": [
    "Метод np.newaxis создает новый вектор:"
   ]
  },
  {
   "cell_type": "code",
   "execution_count": 81,
   "id": "cdac0407",
   "metadata": {},
   "outputs": [
    {
     "data": {
      "text/plain": [
       "array([[0, 1, 2, 3, 4, 5, 6, 7, 8, 9]])"
      ]
     },
     "execution_count": 81,
     "metadata": {},
     "output_type": "execute_result"
    }
   ],
   "source": [
    "b[np.newaxis, :]"
   ]
  },
  {
   "cell_type": "markdown",
   "id": "45363058",
   "metadata": {},
   "source": [
    "Метод np.expand_dims позволяет добавить размерность:"
   ]
  },
  {
   "cell_type": "code",
   "execution_count": 83,
   "id": "4d0039b3",
   "metadata": {},
   "outputs": [
    {
     "data": {
      "text/plain": [
       "array([[0, 1, 2, 3, 4, 5, 6, 7, 8, 9]])"
      ]
     },
     "execution_count": 83,
     "metadata": {},
     "output_type": "execute_result"
    }
   ],
   "source": [
    "np.expand_dims(b, axis=0)"
   ]
  },
  {
   "cell_type": "code",
   "execution_count": null,
   "id": "32855f4d",
   "metadata": {},
   "outputs": [],
   "source": [
    "... таким же обрахом возвращаем обратно вектор в столбец"
   ]
  },
  {
   "cell_type": "code",
   "execution_count": 86,
   "id": "ec117d03",
   "metadata": {},
   "outputs": [
    {
     "data": {
      "text/plain": [
       "array([[0],\n",
       "       [1],\n",
       "       [2],\n",
       "       [3],\n",
       "       [4],\n",
       "       [5],\n",
       "       [6],\n",
       "       [7],\n",
       "       [8],\n",
       "       [9]])"
      ]
     },
     "execution_count": 86,
     "metadata": {},
     "output_type": "execute_result"
    }
   ],
   "source": [
    "b[:, np.newaxis]"
   ]
  },
  {
   "cell_type": "code",
   "execution_count": 85,
   "id": "49144379",
   "metadata": {},
   "outputs": [
    {
     "data": {
      "text/plain": [
       "(1, 10, 1)"
      ]
     },
     "execution_count": 85,
     "metadata": {},
     "output_type": "execute_result"
    }
   ],
   "source": [
    "b[np.newaxis, :, np.newaxis].shape"
   ]
  },
  {
   "cell_type": "markdown",
   "id": "7857a5af",
   "metadata": {},
   "source": [
    "Эти опции необходимы для соблюдения соразмерности массивов при выполнении математических операций, вычислений в python"
   ]
  },
  {
   "cell_type": "markdown",
   "id": "741b0a24",
   "metadata": {},
   "source": [
    "# Массивы с особыми свойствами"
   ]
  },
  {
   "cell_type": "markdown",
   "id": "7c8a0afb",
   "metadata": {},
   "source": [
    "Для создания массивов в бинарном коде (0 и 1) удобно применять функции \n",
    "- zeros (создание массивов из нулей)\n",
    "- ones (создание массивов из единиц)\n",
    "Создадим матрицу из нулей со сторонами 3 и 2:"
   ]
  },
  {
   "cell_type": "code",
   "execution_count": 88,
   "id": "a9a6fc60",
   "metadata": {},
   "outputs": [
    {
     "data": {
      "text/plain": [
       "array([[0., 0.],\n",
       "       [0., 0.],\n",
       "       [0., 0.]])"
      ]
     },
     "execution_count": 88,
     "metadata": {},
     "output_type": "execute_result"
    }
   ],
   "source": [
    "np.zeros(shape=(3,2))"
   ]
  },
  {
   "cell_type": "code",
   "execution_count": 89,
   "id": "6ce4ec86",
   "metadata": {},
   "outputs": [
    {
     "data": {
      "text/plain": [
       "array([[1., 1.],\n",
       "       [1., 1.],\n",
       "       [1., 1.]])"
      ]
     },
     "execution_count": 89,
     "metadata": {},
     "output_type": "execute_result"
    }
   ],
   "source": [
    "np.ones(shape=(3,2))"
   ]
  },
  {
   "cell_type": "markdown",
   "id": "b298370e",
   "metadata": {},
   "source": [
    "Для создания соразмерных массивов применяем оператор like"
   ]
  },
  {
   "cell_type": "code",
   "execution_count": 90,
   "id": "0893a78f",
   "metadata": {},
   "outputs": [
    {
     "data": {
      "text/plain": [
       "array([[1., 1., 1., 1., 1.],\n",
       "       [1., 1., 1., 1., 1.]])"
      ]
     },
     "execution_count": 90,
     "metadata": {},
     "output_type": "execute_result"
    }
   ],
   "source": [
    "np.ones_like(a)"
   ]
  },
  {
   "cell_type": "code",
   "execution_count": 92,
   "id": "e0b8138f",
   "metadata": {},
   "outputs": [
    {
     "data": {
      "text/plain": [
       "array([[0., 0., 0., 0., 0.],\n",
       "       [0., 0., 0., 0., 0.]])"
      ]
     },
     "execution_count": 92,
     "metadata": {},
     "output_type": "execute_result"
    }
   ],
   "source": [
    "np.zeros_like(a)"
   ]
  },
  {
   "cell_type": "markdown",
   "id": "fecfac00",
   "metadata": {},
   "source": [
    "Для создания \"коробочных\" массивов с диагональю из единиц применяем оператор \"eye\" (Для решения уравнений методом Гауса):"
   ]
  },
  {
   "cell_type": "code",
   "execution_count": 95,
   "id": "df706e67",
   "metadata": {},
   "outputs": [
    {
     "data": {
      "text/plain": [
       "array([[1., 0., 0.],\n",
       "       [0., 1., 0.],\n",
       "       [0., 0., 1.]])"
      ]
     },
     "execution_count": 95,
     "metadata": {},
     "output_type": "execute_result"
    }
   ],
   "source": [
    "np.eye(3)"
   ]
  },
  {
   "cell_type": "markdown",
   "id": "89738298",
   "metadata": {},
   "source": [
    "Оператор arange создает последовательность элементов. Например от 1 до 10 c шагом 2 (Полезно при использовании численных методов Фибоначчи):"
   ]
  },
  {
   "cell_type": "code",
   "execution_count": 100,
   "id": "b367a173",
   "metadata": {},
   "outputs": [
    {
     "data": {
      "text/plain": [
       "array([1, 4, 7])"
      ]
     },
     "execution_count": 100,
     "metadata": {},
     "output_type": "execute_result"
    }
   ],
   "source": [
    "np.arange(1, 10, 3)"
   ]
  },
  {
   "cell_type": "markdown",
   "id": "d30365cd",
   "metadata": {},
   "source": [
    "При помощи оператора 'linspace' можно разбить взятый векторный массив на несколько равных интервалов: "
   ]
  },
  {
   "cell_type": "code",
   "execution_count": 101,
   "id": "8ca5e7fe",
   "metadata": {},
   "outputs": [
    {
     "data": {
      "text/plain": [
       "array([0. , 0.2, 0.4, 0.6, 0.8, 1. ])"
      ]
     },
     "execution_count": 101,
     "metadata": {},
     "output_type": "execute_result"
    }
   ],
   "source": [
    "np.linspace(0, 1, 6, endpoint=True)"
   ]
  },
  {
   "cell_type": "markdown",
   "id": "4a7d5121",
   "metadata": {},
   "source": [
    "# Array и Asarray"
   ]
  },
  {
   "cell_type": "markdown",
   "id": "4bc8d759",
   "metadata": {},
   "source": [
    "Создание нескольких компилируемых массивов осуществляется при помощи функций:\n",
    "- array - создает массив с копией в переменной, например 'a'\n",
    "- asarray возвращает объект массив, прикрепленный к переменной 'a'."
   ]
  },
  {
   "cell_type": "markdown",
   "id": "d4208f6c",
   "metadata": {},
   "source": [
    "Для начала задаем массив 'a'"
   ]
  },
  {
   "cell_type": "code",
   "execution_count": 110,
   "id": "d760c0bb",
   "metadata": {},
   "outputs": [
    {
     "data": {
      "text/plain": [
       "(array([1., 2., 3., 4., 5., 6., 7.]), array([1., 2., 3., 4., 5., 6., 7.]))"
      ]
     },
     "execution_count": 110,
     "metadata": {},
     "output_type": "execute_result"
    }
   ],
   "source": [
    "a=np.array([1, 2, 3, 4, 5, 6, 7], dtype=np.float64)\n",
    "b=np.asarray(a)\n",
    "c=np.array(a)\n",
    "\n",
    "b, c"
   ]
  },
  {
   "cell_type": "markdown",
   "id": "08706f8f",
   "metadata": {},
   "source": [
    "... и проверяем путем замены одной из переменных в массиве 'a' (порядковые номера в [] начинаются с 0)"
   ]
  },
  {
   "cell_type": "code",
   "execution_count": null,
   "id": "308fb1ed",
   "metadata": {},
   "outputs": [],
   "source": []
  },
  {
   "cell_type": "code",
   "execution_count": 130,
   "id": "e0db38e1",
   "metadata": {},
   "outputs": [],
   "source": [
    "a[0] = 0"
   ]
  },
  {
   "cell_type": "markdown",
   "id": "6889f828",
   "metadata": {},
   "source": [
    "b, c"
   ]
  },
  {
   "cell_type": "markdown",
   "id": "32a14b81",
   "metadata": {},
   "source": [
    "... таким образом в массиве 'b', который создавали при помощи (asarray) изменилась первая переменная, в массиве 'c' (array) весь ряд остался без изменений "
   ]
  },
  {
   "cell_type": "markdown",
   "id": "0894502e",
   "metadata": {},
   "source": [
    "# ОСНОВНЫЕ ОПЕРАЦИИ С МАССИВАМИ"
   ]
  },
  {
   "cell_type": "markdown",
   "id": "4861299c",
   "metadata": {},
   "source": [
    "# Унарные операции со скалярными величинами\n",
    "Скалярная величина equal статическая величина (НЕ векторная)\n",
    "С массивами данных можно выполнять аналогичные математические преобразования, как и с целыми числами. "
   ]
  },
  {
   "cell_type": "code",
   "execution_count": 228,
   "id": "ed838966",
   "metadata": {},
   "outputs": [
    {
     "data": {
      "text/plain": [
       "array([[0, 1, 2, 3, 4],\n",
       "       [5, 6, 7, 8, 9]])"
      ]
     },
     "execution_count": 228,
     "metadata": {},
     "output_type": "execute_result"
    }
   ],
   "source": [
    "a = np.arange(10).reshape(2, -1) #создаем массив\n",
    "a"
   ]
  },
  {
   "cell_type": "markdown",
   "id": "ee9d2f0f",
   "metadata": {},
   "source": [
    "Возведение в степень:"
   ]
  },
  {
   "cell_type": "code",
   "execution_count": 146,
   "id": "3eb96ef3",
   "metadata": {},
   "outputs": [
    {
     "data": {
      "text/plain": [
       "array([[  0,   1,   8,  27,  64],\n",
       "       [125, 216, 343, 512, 729]], dtype=int32)"
      ]
     },
     "execution_count": 146,
     "metadata": {},
     "output_type": "execute_result"
    }
   ],
   "source": [
    "a ** 3 # например в куб"
   ]
  },
  {
   "cell_type": "markdown",
   "id": "a285dd0e",
   "metadata": {},
   "source": [
    "Умножение и сложение:"
   ]
  },
  {
   "cell_type": "code",
   "execution_count": 140,
   "id": "8e61f916",
   "metadata": {},
   "outputs": [
    {
     "data": {
      "text/plain": [
       "array([[ 0,  2,  4,  6,  8],\n",
       "       [10, 12, 14, 16, 18]])"
      ]
     },
     "execution_count": 140,
     "metadata": {},
     "output_type": "execute_result"
    }
   ],
   "source": [
    "a * 2 # умножение"
   ]
  },
  {
   "cell_type": "code",
   "execution_count": 145,
   "id": "d41d6f0a",
   "metadata": {},
   "outputs": [
    {
     "data": {
      "text/plain": [
       "array([[ 2,  3,  4,  5,  6],\n",
       "       [ 7,  8,  9, 10, 11]])"
      ]
     },
     "execution_count": 145,
     "metadata": {},
     "output_type": "execute_result"
    }
   ],
   "source": [
    "2 + a # сложение"
   ]
  },
  {
   "cell_type": "markdown",
   "id": "0529ad7a",
   "metadata": {},
   "source": [
    "Извлечение квадратного корня:"
   ]
  },
  {
   "cell_type": "code",
   "execution_count": 147,
   "id": "e56e12b2",
   "metadata": {},
   "outputs": [
    {
     "data": {
      "text/plain": [
       "array([[0.        , 1.        , 1.41421356, 1.73205081, 2.        ],\n",
       "       [2.23606798, 2.44948974, 2.64575131, 2.82842712, 3.        ]])"
      ]
     },
     "execution_count": 147,
     "metadata": {},
     "output_type": "execute_result"
    }
   ],
   "source": [
    "np.sqrt(a) # квадратный корень"
   ]
  },
  {
   "cell_type": "markdown",
   "id": "0644c9cc",
   "metadata": {},
   "source": [
    "Возведение в степень:"
   ]
  },
  {
   "cell_type": "code",
   "execution_count": 234,
   "id": "780a2c57",
   "metadata": {},
   "outputs": [
    {
     "data": {
      "text/plain": [
       "array([[0, 1, 2, 3, 4],\n",
       "       [5, 6, 7, 8, 9]])"
      ]
     },
     "execution_count": 234,
     "metadata": {},
     "output_type": "execute_result"
    }
   ],
   "source": [
    "a = np.arange(10).reshape(2, -1) #создаем массив\n",
    "a"
   ]
  },
  {
   "cell_type": "code",
   "execution_count": 235,
   "id": "0f637760",
   "metadata": {},
   "outputs": [
    {
     "data": {
      "text/plain": [
       "array([[1.00000000e+00, 2.71828183e+00, 7.38905610e+00, 2.00855369e+01,\n",
       "        5.45981500e+01],\n",
       "       [1.48413159e+02, 4.03428793e+02, 1.09663316e+03, 2.98095799e+03,\n",
       "        8.10308393e+03]])"
      ]
     },
     "execution_count": 235,
     "metadata": {},
     "output_type": "execute_result"
    }
   ],
   "source": [
    "np.exp(a)"
   ]
  },
  {
   "cell_type": "markdown",
   "id": "3d66d893",
   "metadata": {},
   "source": [
    "Взятие логарифмов:"
   ]
  },
  {
   "cell_type": "code",
   "execution_count": 231,
   "id": "e0a2874c",
   "metadata": {},
   "outputs": [],
   "source": [
    "a[0] = 1"
   ]
  },
  {
   "cell_type": "code",
   "execution_count": 158,
   "id": "64e2c69b",
   "metadata": {},
   "outputs": [
    {
     "data": {
      "text/plain": [
       "array([[0.        , 0.        , 0.        , 0.        , 0.        ],\n",
       "       [1.60943791, 1.79175947, 1.94591015, 2.07944154, 2.19722458]])"
      ]
     },
     "execution_count": 158,
     "metadata": {},
     "output_type": "execute_result"
    }
   ],
   "source": [
    "np.log(1 * a) # обычный логарифм"
   ]
  },
  {
   "cell_type": "code",
   "execution_count": 159,
   "id": "141c5978",
   "metadata": {},
   "outputs": [
    {
     "data": {
      "text/plain": [
       "array([[0.        , 0.        , 0.        , 0.        , 0.        ],\n",
       "       [2.32192809, 2.5849625 , 2.80735492, 3.        , 3.169925  ]])"
      ]
     },
     "execution_count": 159,
     "metadata": {},
     "output_type": "execute_result"
    }
   ],
   "source": [
    "np.log2(1 * a) # двоичный логарифм"
   ]
  },
  {
   "cell_type": "code",
   "execution_count": 236,
   "id": "a2562139",
   "metadata": {},
   "outputs": [
    {
     "data": {
      "text/plain": [
       "array([[False, False,  True,  True,  True],\n",
       "       [ True,  True,  True,  True,  True]])"
      ]
     },
     "execution_count": 236,
     "metadata": {},
     "output_type": "execute_result"
    }
   ],
   "source": [
    "a > 1 # сравнение (булевая логика)"
   ]
  },
  {
   "cell_type": "markdown",
   "id": "5b53ba70",
   "metadata": {},
   "source": [
    "# Агрегирующие операции\n",
    "При помощи данных операций можно производить вычисления с несколькими массивами данных. Для начала создадим случайный массив при помощи функции 'np.random.seed'"
   ]
  },
  {
   "cell_type": "code",
   "execution_count": 183,
   "id": "51230af9",
   "metadata": {},
   "outputs": [],
   "source": [
    "import random #генератор случайных чисел"
   ]
  },
  {
   "cell_type": "code",
   "execution_count": 210,
   "id": "a731077e",
   "metadata": {
    "scrolled": true
   },
   "outputs": [
    {
     "data": {
      "text/plain": [
       "array([[ 0,  1,  2,  3,  4],\n",
       "       [ 5,  6,  7,  8,  9],\n",
       "       [10, 11, 12, 13, 14],\n",
       "       [15, 16, 17, 18, 19],\n",
       "       [20, 21, 22, 23, 24]])"
      ]
     },
     "execution_count": 210,
     "metadata": {},
     "output_type": "execute_result"
    }
   ],
   "source": [
    "a = np.arange(25).reshape(5, -1) #создаем массив\n",
    "a"
   ]
  },
  {
   "cell_type": "markdown",
   "id": "c9cb4f0e",
   "metadata": {},
   "source": [
    "...и выведем основные функции: "
   ]
  },
  {
   "cell_type": "code",
   "execution_count": 211,
   "id": "9cc60f51",
   "metadata": {},
   "outputs": [
    {
     "data": {
      "text/plain": [
       "(0, 24, 24, 300, 0, 12.0)"
      ]
     },
     "execution_count": 211,
     "metadata": {},
     "output_type": "execute_result"
    }
   ],
   "source": [
    "a.min(), a.max(), a.argmax(), a.sum(), a.prod(), a.mean()"
   ]
  },
  {
   "cell_type": "markdown",
   "id": "49ea924f",
   "metadata": {},
   "source": [
    "# Операции с массивами по осям (x,y)"
   ]
  },
  {
   "cell_type": "markdown",
   "id": "429c6ef3",
   "metadata": {},
   "source": [
    "a.agg(axis*axis) \n",
    "axis=0 - это всегда Y\n",
    "axis=1 - это всегда X"
   ]
  },
  {
   "cell_type": "code",
   "execution_count": 7,
   "id": "b81a0fc4",
   "metadata": {},
   "outputs": [
    {
     "data": {
      "text/plain": [
       "array([[ 0,  1,  2,  3,  4],\n",
       "       [ 5,  6,  7,  8,  9],\n",
       "       [10, 11, 12, 13, 14],\n",
       "       [15, 16, 17, 18, 19],\n",
       "       [20, 21, 22, 23, 24]])"
      ]
     },
     "execution_count": 7,
     "metadata": {},
     "output_type": "execute_result"
    }
   ],
   "source": [
    "a = np.arange(25).reshape(5, -1) # составляем двумерный массив\n",
    "a"
   ]
  },
  {
   "cell_type": "markdown",
   "id": "d70fa793",
   "metadata": {},
   "source": [
    "# Задача A:\n",
    "1). Необходимо узнать max значение по столбцам - по значению 'y' (axis0)\n",
    "2). Необходимо узнать min значение по строкам - по значению 'x' (axis1)\n",
    "Решение:"
   ]
  },
  {
   "cell_type": "code",
   "execution_count": 223,
   "id": "11379192",
   "metadata": {},
   "outputs": [
    {
     "data": {
      "text/plain": [
       "array([20, 21, 22, 23, 24])"
      ]
     },
     "execution_count": 223,
     "metadata": {},
     "output_type": "execute_result"
    }
   ],
   "source": [
    "a.max(axis=0) #редукция вдоль оси Y axis=0 (=max по столбцам)"
   ]
  },
  {
   "cell_type": "code",
   "execution_count": 237,
   "id": "d1bd529f",
   "metadata": {},
   "outputs": [
    {
     "data": {
      "text/plain": [
       "array([0, 5])"
      ]
     },
     "execution_count": 237,
     "metadata": {},
     "output_type": "execute_result"
    }
   ],
   "source": [
    "a.min(axis=1) #дедукция вдоль оси X axis=1 (=min по строкам)"
   ]
  },
  {
   "cell_type": "markdown",
   "id": "5c14fc6c",
   "metadata": {},
   "source": [
    "# Задача B:\n",
    "Найти суммы всех \"горизонталей\" и \"вертикалей:"
   ]
  },
  {
   "cell_type": "code",
   "execution_count": 225,
   "id": "e3286574",
   "metadata": {},
   "outputs": [
    {
     "data": {
      "text/plain": [
       "array([ 10,  35,  60,  85, 110])"
      ]
     },
     "execution_count": 225,
     "metadata": {},
     "output_type": "execute_result"
    }
   ],
   "source": [
    "a.sum(axis=1) #суммирование всех значение вдоль оси X axis=1 (горизонтьаль)"
   ]
  },
  {
   "cell_type": "code",
   "execution_count": 226,
   "id": "59b9f769",
   "metadata": {},
   "outputs": [
    {
     "data": {
      "text/plain": [
       "array([50, 55, 60, 65, 70])"
      ]
     },
     "execution_count": 226,
     "metadata": {},
     "output_type": "execute_result"
    }
   ],
   "source": [
    "a.sum(axis=0) #суммирование всех значение вдоль оси Y axis=0 (вертикаль)"
   ]
  },
  {
   "cell_type": "markdown",
   "id": "199433f5",
   "metadata": {},
   "source": [
    "# Задача С\n",
    "Найти индекс (аргумент) максимального значения argmax"
   ]
  },
  {
   "cell_type": "code",
   "execution_count": 14,
   "id": "749a1093",
   "metadata": {
    "scrolled": true
   },
   "outputs": [
    {
     "data": {
      "text/plain": [
       "array([[ 0,  1,  2,  3,  4],\n",
       "       [ 5,  6,  7,  8,  9],\n",
       "       [10, 11, 12, 13, 14],\n",
       "       [15, 16, 17, 18, 19],\n",
       "       [20, 21, 22, 23, 24]])"
      ]
     },
     "execution_count": 14,
     "metadata": {},
     "output_type": "execute_result"
    }
   ],
   "source": [
    "a"
   ]
  },
  {
   "cell_type": "code",
   "execution_count": 15,
   "id": "6f1d734f",
   "metadata": {},
   "outputs": [
    {
     "data": {
      "text/plain": [
       "24"
      ]
     },
     "execution_count": 15,
     "metadata": {},
     "output_type": "execute_result"
    }
   ],
   "source": [
    "a.argmax()"
   ]
  },
  {
   "cell_type": "markdown",
   "id": "da7e8fd1",
   "metadata": {},
   "source": [
    "# Задача D\n",
    "Узнать какую задачу решает данная функция"
   ]
  },
  {
   "cell_type": "code",
   "execution_count": 13,
   "id": "ab8133e0",
   "metadata": {},
   "outputs": [
    {
     "name": "stdout",
     "output_type": "stream",
     "text": [
      "value = 21\n",
      "index = [4, 1]\n"
     ]
    }
   ],
   "source": [
    "i = np.argmax(a)\n",
    "i, j = i // a.shape[1], 1 % a.shape[1] \n",
    "\n",
    "print(\"value =\", a[i, j])\n",
    "print(\"index =\", [i, j])"
   ]
  },
  {
   "cell_type": "code",
   "execution_count": 18,
   "id": "d2ef03e0",
   "metadata": {},
   "outputs": [
    {
     "data": {
      "text/plain": [
       "(4, 4)"
      ]
     },
     "execution_count": 18,
     "metadata": {},
     "output_type": "execute_result"
    }
   ],
   "source": [
    "np.unravel_index(np.argmax(a), a.shape)"
   ]
  },
  {
   "cell_type": "markdown",
   "id": "d48f4ad3",
   "metadata": {},
   "source": [
    "Сравнение скоростей выполнения функций при помощи библиотеки Nympy и выполнения той же функции путем базовой команды Python: \n",
    "1). Создаем массив:"
   ]
  },
  {
   "cell_type": "code",
   "execution_count": 19,
   "id": "e850bd17",
   "metadata": {},
   "outputs": [],
   "source": [
    "b = np.random.randint(0, 10, size=(1_000, 1_000))\n",
    "b[30, 42] = 20\n",
    "b = b.ravel()"
   ]
  },
  {
   "cell_type": "markdown",
   "id": "292e498c",
   "metadata": {},
   "source": [
    "скорость выполнения при помощи Numpy:"
   ]
  },
  {
   "cell_type": "code",
   "execution_count": 20,
   "id": "a5efd5d0",
   "metadata": {},
   "outputs": [
    {
     "name": "stdout",
     "output_type": "stream",
     "text": [
      "824 µs ± 51.5 µs per loop (mean ± std. dev. of 7 runs, 1000 loops each)\n"
     ]
    }
   ],
   "source": [
    "%%timeit #оператор замера скорости выполнения команды\n",
    "\n",
    "b.max()"
   ]
  },
  {
   "cell_type": "code",
   "execution_count": null,
   "id": "9d9f740d",
   "metadata": {},
   "outputs": [],
   "source": [
    "та же функция вызванная базовой командой Python:"
   ]
  },
  {
   "cell_type": "code",
   "execution_count": 21,
   "id": "5cef2488",
   "metadata": {},
   "outputs": [
    {
     "name": "stdout",
     "output_type": "stream",
     "text": [
      "69.5 ms ± 2.42 ms per loop (mean ± std. dev. of 7 runs, 10 loops each)\n"
     ]
    }
   ],
   "source": [
    "%%timeit\n",
    "\n",
    "max(b)"
   ]
  },
  {
   "cell_type": "markdown",
   "id": "dc9693b7",
   "metadata": {},
   "source": [
    "Ка мы видим скорость выполнения команды mx(b) ниже. Это связано с тем, что сначала программа обращается к списку b, выполняет внутренний алгоритм 'for', а уже затем вычисляет max из списка данных. "
   ]
  },
  {
   "cell_type": "markdown",
   "id": "807b5004",
   "metadata": {},
   "source": [
    "# Унарные операции над булевыми массивами"
   ]
  },
  {
   "cell_type": "markdown",
   "id": "ff97783d",
   "metadata": {},
   "source": [
    "- any - возвращает массив, если есть хотя бы один элемент (true)\n",
    "- all - возвращает массив, если все эллементы соответствуют выбранному критерию"
   ]
  },
  {
   "cell_type": "code",
   "execution_count": 23,
   "id": "e3eb53e0",
   "metadata": {},
   "outputs": [
    {
     "data": {
      "text/plain": [
       "array([ True,  True, False, False,  True])"
      ]
     },
     "execution_count": 23,
     "metadata": {},
     "output_type": "execute_result"
    }
   ],
   "source": [
    "a = np.asarray([True, True, False, False, True])\n",
    "a"
   ]
  },
  {
   "cell_type": "code",
   "execution_count": 24,
   "id": "d9ab91a7",
   "metadata": {},
   "outputs": [
    {
     "data": {
      "text/plain": [
       "(True, True, True)"
      ]
     },
     "execution_count": 24,
     "metadata": {},
     "output_type": "execute_result"
    }
   ],
   "source": [
    "a.any(), np.any(a), any(a) #одна и таже функция, выполняемая двумя разными способами. Первый вариант предпочтительнее"
   ]
  },
  {
   "cell_type": "code",
   "execution_count": 28,
   "id": "60546a89",
   "metadata": {},
   "outputs": [
    {
     "data": {
      "text/plain": [
       "(False, False, False)"
      ]
     },
     "execution_count": 28,
     "metadata": {},
     "output_type": "execute_result"
    }
   ],
   "source": [
    "a.all(), np.all(a), all(a) #одна и таже функция, выполняемая двумя разными способами. Первый вариант предпочтительнее"
   ]
  },
  {
   "cell_type": "code",
   "execution_count": 32,
   "id": "e7d89e22",
   "metadata": {},
   "outputs": [
    {
     "data": {
      "text/plain": [
       "array([[ True,  True, False, False,  True],\n",
       "       [ True, False, False,  True, False]])"
      ]
     },
     "execution_count": 32,
     "metadata": {},
     "output_type": "execute_result"
    }
   ],
   "source": [
    "a = np.asarray([[True, True, False, False, True], \n",
    "               [True, False, False, True, False]])\n",
    "a"
   ]
  },
  {
   "cell_type": "markdown",
   "id": "e6abee05",
   "metadata": {},
   "source": [
    "- logical_not инвертирует булевые массивы обратно в исходное состояние:"
   ]
  },
  {
   "cell_type": "code",
   "execution_count": 33,
   "id": "4626acfd",
   "metadata": {},
   "outputs": [
    {
     "data": {
      "text/plain": [
       "array([[False, False,  True,  True, False],\n",
       "       [False,  True,  True, False,  True]])"
      ]
     },
     "execution_count": 33,
     "metadata": {},
     "output_type": "execute_result"
    }
   ],
   "source": [
    "np.logical_not(a)"
   ]
  },
  {
   "cell_type": "code",
   "execution_count": 35,
   "id": "4e275977",
   "metadata": {},
   "outputs": [
    {
     "data": {
      "text/plain": [
       "array([[-2, -2, -1, -1, -2],\n",
       "       [-2, -1, -1, -2, -1]], dtype=int32)"
      ]
     },
     "execution_count": 35,
     "metadata": {},
     "output_type": "execute_result"
    }
   ],
   "source": [
    "~a"
   ]
  },
  {
   "cell_type": "markdown",
   "id": "4d00f5cc",
   "metadata": {},
   "source": [
    "# Домашнее задание:\n",
    "- Составить двумерные равноразмерные массивы кратные 3-м\n",
    "- Провести вычисления сумм \"вертикальных\" и \"горизонтальных\" полей\n",
    "- Найти закономерности"
   ]
  }
 ],
 "metadata": {
  "kernelspec": {
   "display_name": "Python 3 (ipykernel)",
   "language": "python",
   "name": "python3"
  },
  "language_info": {
   "codemirror_mode": {
    "name": "ipython",
    "version": 3
   },
   "file_extension": ".py",
   "mimetype": "text/x-python",
   "name": "python",
   "nbconvert_exporter": "python",
   "pygments_lexer": "ipython3",
   "version": "3.7.11"
  }
 },
 "nbformat": 4,
 "nbformat_minor": 5
}
